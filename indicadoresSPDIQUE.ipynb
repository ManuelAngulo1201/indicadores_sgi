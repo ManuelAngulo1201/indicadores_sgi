{
 "cells": [
  {
   "cell_type": "markdown",
   "metadata": {},
   "source": [
    "# Indicadores de gerencia"
   ]
  },
  {
   "cell_type": "code",
   "execution_count": 247,
   "metadata": {},
   "outputs": [],
   "source": [
    "import os \n",
    "import pandas as pd\n",
    "from datetime import datetime, timedelta"
   ]
  },
  {
   "cell_type": "markdown",
   "metadata": {},
   "source": [
    "#### Indicadores de vehículos\n",
    "Para ello, debe importar los datos de la báscula de todo el mes"
   ]
  },
  {
   "cell_type": "code",
   "execution_count": 248,
   "metadata": {},
   "outputs": [
    {
     "data": {
      "text/html": [
       "<div>\n",
       "<style scoped>\n",
       "    .dataframe tbody tr th:only-of-type {\n",
       "        vertical-align: middle;\n",
       "    }\n",
       "\n",
       "    .dataframe tbody tr th {\n",
       "        vertical-align: top;\n",
       "    }\n",
       "\n",
       "    .dataframe thead th {\n",
       "        text-align: right;\n",
       "    }\n",
       "</style>\n",
       "<table border=\"1\" class=\"dataframe\">\n",
       "  <thead>\n",
       "    <tr style=\"text-align: right;\">\n",
       "      <th></th>\n",
       "      <th>Numero Tiquete</th>\n",
       "      <th>Fecha</th>\n",
       "      <th>Hora</th>\n",
       "      <th>Peso Kg</th>\n",
       "      <th>Fecha.1</th>\n",
       "      <th>Hora.1</th>\n",
       "      <th>Peso Kg.1</th>\n",
       "      <th>Peso Neto</th>\n",
       "      <th>Placa</th>\n",
       "      <th>Compañia</th>\n",
       "      <th>Cedula</th>\n",
       "      <th>Unnamed: 11</th>\n",
       "      <th>Conductor</th>\n",
       "      <th>Producto</th>\n",
       "      <th>Documento</th>\n",
       "      <th>Contenedor</th>\n",
       "      <th>Observaciones</th>\n",
       "      <th>Eje</th>\n",
       "      <th>Bascula Ingreso</th>\n",
       "      <th>Bascula Repeso</th>\n",
       "    </tr>\n",
       "  </thead>\n",
       "  <tbody>\n",
       "    <tr>\n",
       "      <th>0</th>\n",
       "      <td>372017</td>\n",
       "      <td>2024-06-04</td>\n",
       "      <td>1970-01-01 09:08:48</td>\n",
       "      <td>5670</td>\n",
       "      <td>2024-06-04</td>\n",
       "      <td>1970-01-01 11:44:03</td>\n",
       "      <td>3930</td>\n",
       "      <td>1740</td>\n",
       "      <td>SNX160</td>\n",
       "      <td>IMPALA COLOMBIA SAS</td>\n",
       "      <td>1007588466</td>\n",
       "      <td>NaN</td>\n",
       "      <td>ESTEBAN MEJIA</td>\n",
       "      <td>PROVISIONES</td>\n",
       "      <td>9022</td>\n",
       "      <td>FURGON</td>\n",
       "      <td>NaN</td>\n",
       "      <td>6C2</td>\n",
       "      <td>BASCULA MAMONAL ZOFRANCA S.A. ENTRADA</td>\n",
       "      <td>BASCULA MAMONAL ZOFRANCA S.A. ENTRADA</td>\n",
       "    </tr>\n",
       "    <tr>\n",
       "      <th>1</th>\n",
       "      <td>372028</td>\n",
       "      <td>2024-06-04</td>\n",
       "      <td>1970-01-01 09:40:17</td>\n",
       "      <td>2170</td>\n",
       "      <td>2024-06-04</td>\n",
       "      <td>1970-01-01 15:14:03</td>\n",
       "      <td>2090</td>\n",
       "      <td>80</td>\n",
       "      <td>LJL439</td>\n",
       "      <td>IMPALA COLOMBIA SAS</td>\n",
       "      <td>78025156</td>\n",
       "      <td>NaN</td>\n",
       "      <td>JHONNY HERNANDEZ</td>\n",
       "      <td>OTROS MATERIALES</td>\n",
       "      <td>9028</td>\n",
       "      <td>CARGA SUELTA</td>\n",
       "      <td>PANTALLAS --IMPRESORA ---SOPORTE</td>\n",
       "      <td>1C2</td>\n",
       "      <td>BASCULA MAMONAL ZOFRANCA S.A. ENTRADA</td>\n",
       "      <td>BASCULA MAMONAL ZOFRANCA S.A. ENTRADA</td>\n",
       "    </tr>\n",
       "    <tr>\n",
       "      <th>2</th>\n",
       "      <td>372030</td>\n",
       "      <td>2024-06-04</td>\n",
       "      <td>1970-01-01 15:15:12</td>\n",
       "      <td>2090</td>\n",
       "      <td>2024-06-04</td>\n",
       "      <td>1970-01-01 15:18:21</td>\n",
       "      <td>2120</td>\n",
       "      <td>30</td>\n",
       "      <td>LJL439</td>\n",
       "      <td>IMPALA COLOMBIA SAS</td>\n",
       "      <td>78025156</td>\n",
       "      <td>NaN</td>\n",
       "      <td>JHONNY HERNANDEZ</td>\n",
       "      <td>OTROS MATERIALES</td>\n",
       "      <td>9049</td>\n",
       "      <td>PARTICULAR</td>\n",
       "      <td>IMPRESORA Y TONER</td>\n",
       "      <td>1C2</td>\n",
       "      <td>BASCULA MAMONAL ZOFRANCA S.A. ENTRADA</td>\n",
       "      <td>BASCULA MAMONAL ZOFRANCA S.A. ENTRADA</td>\n",
       "    </tr>\n",
       "    <tr>\n",
       "      <th>3</th>\n",
       "      <td>372039</td>\n",
       "      <td>2024-06-04</td>\n",
       "      <td>1970-01-01 16:21:35</td>\n",
       "      <td>1820</td>\n",
       "      <td>2024-06-04</td>\n",
       "      <td>1970-01-01 16:50:50</td>\n",
       "      <td>1700</td>\n",
       "      <td>120</td>\n",
       "      <td>BPO047</td>\n",
       "      <td>ORION MARINE GROUP SAS</td>\n",
       "      <td>73084289</td>\n",
       "      <td>NaN</td>\n",
       "      <td>ADALBERTO JIMENEZ</td>\n",
       "      <td>PIMPINAS DIESEL</td>\n",
       "      <td>9053</td>\n",
       "      <td>PARTICULAR</td>\n",
       "      <td>CANTIDAD 6 PIMPINAS</td>\n",
       "      <td>1C2</td>\n",
       "      <td>BASCULA MAMONAL ZOFRANCA S.A. ENTRADA</td>\n",
       "      <td>BASCULA MAMONAL ZOFRANCA S.A. ENTRADA</td>\n",
       "    </tr>\n",
       "    <tr>\n",
       "      <th>4</th>\n",
       "      <td>372044</td>\n",
       "      <td>2024-06-04</td>\n",
       "      <td>1970-01-01 14:22:00</td>\n",
       "      <td>51780</td>\n",
       "      <td>2024-06-04</td>\n",
       "      <td>1970-01-01 17:45:58</td>\n",
       "      <td>18220</td>\n",
       "      <td>33560</td>\n",
       "      <td>LPK628</td>\n",
       "      <td>C.I CARIBBEAN WORLD TRADE S.A.S</td>\n",
       "      <td>1092346619</td>\n",
       "      <td>NaN</td>\n",
       "      <td>LUIS ALEJANDRO BARRERA JAIMES</td>\n",
       "      <td>FUEL OIL</td>\n",
       "      <td>126530</td>\n",
       "      <td>CARROTANQUE</td>\n",
       "      <td>000126530</td>\n",
       "      <td>3S3</td>\n",
       "      <td>BASCULA MAMONAL ZOFRANCA S.A. ENTRADA</td>\n",
       "      <td>BASCULA MAMONAL ZOFRANCA S.A. ENTRADA</td>\n",
       "    </tr>\n",
       "  </tbody>\n",
       "</table>\n",
       "</div>"
      ],
      "text/plain": [
       "   Numero Tiquete      Fecha                Hora  Peso Kg    Fecha.1  \\\n",
       "0          372017 2024-06-04 1970-01-01 09:08:48     5670 2024-06-04   \n",
       "1          372028 2024-06-04 1970-01-01 09:40:17     2170 2024-06-04   \n",
       "2          372030 2024-06-04 1970-01-01 15:15:12     2090 2024-06-04   \n",
       "3          372039 2024-06-04 1970-01-01 16:21:35     1820 2024-06-04   \n",
       "4          372044 2024-06-04 1970-01-01 14:22:00    51780 2024-06-04   \n",
       "\n",
       "               Hora.1  Peso Kg.1  Peso Neto   Placa  \\\n",
       "0 1970-01-01 11:44:03       3930       1740  SNX160   \n",
       "1 1970-01-01 15:14:03       2090         80  LJL439   \n",
       "2 1970-01-01 15:18:21       2120         30  LJL439   \n",
       "3 1970-01-01 16:50:50       1700        120  BPO047   \n",
       "4 1970-01-01 17:45:58      18220      33560  LPK628   \n",
       "\n",
       "                          Compañia      Cedula  Unnamed: 11  \\\n",
       "0              IMPALA COLOMBIA SAS  1007588466          NaN   \n",
       "1              IMPALA COLOMBIA SAS    78025156          NaN   \n",
       "2              IMPALA COLOMBIA SAS    78025156          NaN   \n",
       "3           ORION MARINE GROUP SAS    73084289          NaN   \n",
       "4  C.I CARIBBEAN WORLD TRADE S.A.S  1092346619          NaN   \n",
       "\n",
       "                       Conductor          Producto  Documento    Contenedor  \\\n",
       "0                 ESTEBAN MEJIA        PROVISIONES       9022        FURGON   \n",
       "1               JHONNY HERNANDEZ  OTROS MATERIALES       9028  CARGA SUELTA   \n",
       "2               JHONNY HERNANDEZ  OTROS MATERIALES       9049    PARTICULAR   \n",
       "3              ADALBERTO JIMENEZ   PIMPINAS DIESEL       9053    PARTICULAR   \n",
       "4  LUIS ALEJANDRO BARRERA JAIMES          FUEL OIL     126530   CARROTANQUE   \n",
       "\n",
       "                      Observaciones  Eje  \\\n",
       "0                               NaN  6C2   \n",
       "1  PANTALLAS --IMPRESORA ---SOPORTE  1C2   \n",
       "2                 IMPRESORA Y TONER  1C2   \n",
       "3               CANTIDAD 6 PIMPINAS  1C2   \n",
       "4                         000126530  3S3   \n",
       "\n",
       "                         Bascula Ingreso  \\\n",
       "0  BASCULA MAMONAL ZOFRANCA S.A. ENTRADA   \n",
       "1  BASCULA MAMONAL ZOFRANCA S.A. ENTRADA   \n",
       "2  BASCULA MAMONAL ZOFRANCA S.A. ENTRADA   \n",
       "3  BASCULA MAMONAL ZOFRANCA S.A. ENTRADA   \n",
       "4  BASCULA MAMONAL ZOFRANCA S.A. ENTRADA   \n",
       "\n",
       "                          Bascula Repeso  \n",
       "0  BASCULA MAMONAL ZOFRANCA S.A. ENTRADA  \n",
       "1  BASCULA MAMONAL ZOFRANCA S.A. ENTRADA  \n",
       "2  BASCULA MAMONAL ZOFRANCA S.A. ENTRADA  \n",
       "3  BASCULA MAMONAL ZOFRANCA S.A. ENTRADA  \n",
       "4  BASCULA MAMONAL ZOFRANCA S.A. ENTRADA  "
      ]
     },
     "execution_count": 248,
     "metadata": {},
     "output_type": "execute_result"
    }
   ],
   "source": [
    "#Carga de datos de báscula de todo el mes\n",
    "data = pd.read_excel(r\"C:\\Users\\HP\\Documents\\Manuel_Angulo\\Python\\reportMovBascEx (1).xls\", header=2)\n",
    "data.head(5)"
   ]
  },
  {
   "cell_type": "markdown",
   "metadata": {},
   "source": [
    "Revisar categorias por errores de digitación"
   ]
  },
  {
   "cell_type": "code",
   "execution_count": 249,
   "metadata": {},
   "outputs": [
    {
     "data": {
      "text/plain": [
       "Contenedor\n",
       "PARTICULAR      3\n",
       "CARGA SUELTA    2\n",
       "FURGON          1\n",
       "CARROTANQUE     1\n",
       "VOLQUETA        1\n",
       "CARPADO         1\n",
       "Name: count, dtype: int64"
      ]
     },
     "execution_count": 249,
     "metadata": {},
     "output_type": "execute_result"
    }
   ],
   "source": [
    "#Tipos de contenedores / primer filtro a realizar del archivo mensual\n",
    "categorias = data[\"Contenedor\"].value_counts()\n",
    "categorias"
   ]
  },
  {
   "cell_type": "code",
   "execution_count": 250,
   "metadata": {},
   "outputs": [],
   "source": [
    "grupos_validos = {\"CAROTANQUE\", \"CARROTAANQUE\", \"CARROTANQUE\", \"CARROTANQUEA\", \"CARROTANQUES\", \"CARRTANQUE\", \"CTK\", \"CTKS\", \"CARGA SUELTA\"}\n",
    "ctks = data[data[\"Contenedor\"].isin(grupos_validos) & (data[\"Peso Neto\"]>= 25000)]"
   ]
  },
  {
   "cell_type": "markdown",
   "metadata": {},
   "source": [
    "REVISIONES DIARIAS"
   ]
  },
  {
   "cell_type": "code",
   "execution_count": 251,
   "metadata": {},
   "outputs": [
    {
     "data": {
      "text/plain": [
       "Compañia\n",
       "C.I CARIBBEAN WORLD TRADE S.A.S    33560\n",
       "Name: Peso Neto, dtype: int64"
      ]
     },
     "execution_count": 251,
     "metadata": {},
     "output_type": "execute_result"
    }
   ],
   "source": [
    "revision_diaria = ctks.groupby(\"Compañia\")[\"Peso Neto\"].sum()\n",
    "revision_diaria"
   ]
  },
  {
   "cell_type": "code",
   "execution_count": 252,
   "metadata": {},
   "outputs": [
    {
     "name": "stderr",
     "output_type": "stream",
     "text": [
      "C:\\Users\\HP\\AppData\\Local\\Temp\\ipykernel_27236\\480131623.py:1: SettingWithCopyWarning: \n",
      "A value is trying to be set on a copy of a slice from a DataFrame.\n",
      "Try using .loc[row_indexer,col_indexer] = value instead\n",
      "\n",
      "See the caveats in the documentation: https://pandas.pydata.org/pandas-docs/stable/user_guide/indexing.html#returning-a-view-versus-a-copy\n",
      "  ctks[\"intervalo_horario\"] = ctks[\"Hora\"].apply(lambda x: x.hour*3600 + x.minute*60 + x.second)\n"
     ]
    }
   ],
   "source": [
    "ctks[\"intervalo_horario\"] = ctks[\"Hora\"].apply(lambda x: x.hour*3600 + x.minute*60 + x.second)\n",
    "intervalo_horas = pd.interval_range(start=0, end=86400, periods= 24, closed=\"left\")"
   ]
  },
  {
   "cell_type": "code",
   "execution_count": 253,
   "metadata": {},
   "outputs": [
    {
     "name": "stderr",
     "output_type": "stream",
     "text": [
      "C:\\Users\\HP\\AppData\\Local\\Temp\\ipykernel_27236\\3270646971.py:1: SettingWithCopyWarning: \n",
      "A value is trying to be set on a copy of a slice from a DataFrame.\n",
      "Try using .loc[row_indexer,col_indexer] = value instead\n",
      "\n",
      "See the caveats in the documentation: https://pandas.pydata.org/pandas-docs/stable/user_guide/indexing.html#returning-a-view-versus-a-copy\n",
      "  ctks[\"rango_horas\"] = pd.cut(ctks[\"intervalo_horario\"],bins=intervalo_horas)\n"
     ]
    }
   ],
   "source": [
    "ctks[\"rango_horas\"] = pd.cut(ctks[\"intervalo_horario\"],bins=intervalo_horas)"
   ]
  },
  {
   "cell_type": "code",
   "execution_count": 254,
   "metadata": {},
   "outputs": [
    {
     "name": "stdout",
     "output_type": "stream",
     "text": [
      "       rango_horas  Placa\n",
      "0        [0, 3600)      0\n",
      "1     [3600, 7200)      0\n",
      "2    [7200, 10800)      0\n",
      "3   [10800, 14400)      0\n",
      "4   [14400, 18000)      0\n",
      "5   [18000, 21600)      0\n",
      "6   [21600, 25200)      0\n",
      "7   [25200, 28800)      0\n",
      "8   [28800, 32400)      0\n",
      "9   [32400, 36000)      0\n",
      "10  [36000, 39600)      0\n",
      "11  [39600, 43200)      0\n",
      "12  [43200, 46800)      0\n",
      "13  [46800, 50400)      0\n",
      "14  [50400, 54000)      1\n",
      "15  [54000, 57600)      0\n",
      "16  [57600, 61200)      0\n",
      "17  [61200, 64800)      0\n",
      "18  [64800, 68400)      0\n",
      "19  [68400, 72000)      0\n",
      "20  [72000, 75600)      0\n",
      "21  [75600, 79200)      0\n",
      "22  [79200, 82800)      0\n",
      "23  [82800, 86400)      0\n"
     ]
    },
    {
     "name": "stderr",
     "output_type": "stream",
     "text": [
      "C:\\Users\\HP\\AppData\\Local\\Temp\\ipykernel_27236\\3082195944.py:1: FutureWarning: The default of observed=False is deprecated and will be changed to True in a future version of pandas. Pass observed=False to retain current behavior or observed=True to adopt the future default and silence this warning.\n",
      "  tabla_1 = ctks.groupby(\"rango_horas\")[\"Placa\"].count().reset_index()\n"
     ]
    }
   ],
   "source": [
    "tabla_1 = ctks.groupby(\"rango_horas\")[\"Placa\"].count().reset_index()\n",
    "print(tabla_1)"
   ]
  },
  {
   "cell_type": "code",
   "execution_count": 255,
   "metadata": {},
   "outputs": [
    {
     "data": {
      "text/html": [
       "<div>\n",
       "<style scoped>\n",
       "    .dataframe tbody tr th:only-of-type {\n",
       "        vertical-align: middle;\n",
       "    }\n",
       "\n",
       "    .dataframe tbody tr th {\n",
       "        vertical-align: top;\n",
       "    }\n",
       "\n",
       "    .dataframe thead th {\n",
       "        text-align: right;\n",
       "    }\n",
       "</style>\n",
       "<table border=\"1\" class=\"dataframe\">\n",
       "  <thead>\n",
       "    <tr style=\"text-align: right;\">\n",
       "      <th></th>\n",
       "      <th>Fecha</th>\n",
       "      <th>Placa</th>\n",
       "    </tr>\n",
       "  </thead>\n",
       "  <tbody>\n",
       "    <tr>\n",
       "      <th>0</th>\n",
       "      <td>2024-06-04</td>\n",
       "      <td>1</td>\n",
       "    </tr>\n",
       "  </tbody>\n",
       "</table>\n",
       "</div>"
      ],
      "text/plain": [
       "       Fecha  Placa\n",
       "0 2024-06-04      1"
      ]
     },
     "execution_count": 255,
     "metadata": {},
     "output_type": "execute_result"
    }
   ],
   "source": [
    "tabla_2 = ctks.groupby(\"Fecha\")[\"Placa\"].count().reset_index()\n",
    "tabla_2"
   ]
  },
  {
   "cell_type": "code",
   "execution_count": 256,
   "metadata": {},
   "outputs": [
    {
     "data": {
      "text/plain": [
       "1"
      ]
     },
     "execution_count": 256,
     "metadata": {},
     "output_type": "execute_result"
    }
   ],
   "source": [
    "tabla_2[\"Placa\"].sum()"
   ]
  },
  {
   "cell_type": "code",
   "execution_count": 257,
   "metadata": {},
   "outputs": [
    {
     "name": "stderr",
     "output_type": "stream",
     "text": [
      "C:\\Users\\HP\\AppData\\Local\\Temp\\ipykernel_27236\\3774768454.py:1: SettingWithCopyWarning: \n",
      "A value is trying to be set on a copy of a slice from a DataFrame.\n",
      "Try using .loc[row_indexer,col_indexer] = value instead\n",
      "\n",
      "See the caveats in the documentation: https://pandas.pydata.org/pandas-docs/stable/user_guide/indexing.html#returning-a-view-versus-a-copy\n",
      "  ctks[\"dia_semana\"] = ctks[\"Fecha\"].dt.day_of_week\n"
     ]
    },
    {
     "data": {
      "text/html": [
       "<div>\n",
       "<style scoped>\n",
       "    .dataframe tbody tr th:only-of-type {\n",
       "        vertical-align: middle;\n",
       "    }\n",
       "\n",
       "    .dataframe tbody tr th {\n",
       "        vertical-align: top;\n",
       "    }\n",
       "\n",
       "    .dataframe thead th {\n",
       "        text-align: right;\n",
       "    }\n",
       "</style>\n",
       "<table border=\"1\" class=\"dataframe\">\n",
       "  <thead>\n",
       "    <tr style=\"text-align: right;\">\n",
       "      <th></th>\n",
       "      <th>dia_semana</th>\n",
       "      <th>Placa</th>\n",
       "    </tr>\n",
       "  </thead>\n",
       "  <tbody>\n",
       "    <tr>\n",
       "      <th>0</th>\n",
       "      <td>1</td>\n",
       "      <td>1</td>\n",
       "    </tr>\n",
       "  </tbody>\n",
       "</table>\n",
       "</div>"
      ],
      "text/plain": [
       "   dia_semana  Placa\n",
       "0           1      1"
      ]
     },
     "execution_count": 257,
     "metadata": {},
     "output_type": "execute_result"
    }
   ],
   "source": [
    "ctks[\"dia_semana\"] = ctks[\"Fecha\"].dt.day_of_week\n",
    "tabla_3 = ctks.groupby(\"dia_semana\")[\"Placa\"].count().reset_index()\n",
    "tabla_3"
   ]
  },
  {
   "cell_type": "markdown",
   "metadata": {},
   "source": [
    "#### Indicadores de Almacenamiento\n",
    "Se carga el resumen de operaciones para revisar el almacenamiento"
   ]
  },
  {
   "cell_type": "code",
   "execution_count": 258,
   "metadata": {},
   "outputs": [
    {
     "name": "stderr",
     "output_type": "stream",
     "text": [
      "c:\\Python\\Lib\\site-packages\\openpyxl\\worksheet\\_reader.py:329: UserWarning: Data Validation extension is not supported and will be removed\n",
      "  warn(msg)\n"
     ]
    },
    {
     "data": {
      "text/html": [
       "<div>\n",
       "<style scoped>\n",
       "    .dataframe tbody tr th:only-of-type {\n",
       "        vertical-align: middle;\n",
       "    }\n",
       "\n",
       "    .dataframe tbody tr th {\n",
       "        vertical-align: top;\n",
       "    }\n",
       "\n",
       "    .dataframe thead th {\n",
       "        text-align: right;\n",
       "    }\n",
       "</style>\n",
       "<table border=\"1\" class=\"dataframe\">\n",
       "  <thead>\n",
       "    <tr style=\"text-align: right;\">\n",
       "      <th></th>\n",
       "      <th>FECHA INICIAL</th>\n",
       "      <th>FECHA FINAL</th>\n",
       "      <th>HORA DE INICIO</th>\n",
       "      <th>H SUSP</th>\n",
       "      <th>H REANU</th>\n",
       "      <th>HORA FINAL</th>\n",
       "      <th>STAND BY</th>\n",
       "      <th>TIEMPO DE OPERACIÓN [HRS]</th>\n",
       "      <th>TASA DE BOMBEO SIN STANDBY</th>\n",
       "      <th>TASA DE BOMBEO REAL</th>\n",
       "      <th>...</th>\n",
       "      <th>EQUIPO DE BOMBEO</th>\n",
       "      <th>HORAS HOMBRE USADAS</th>\n",
       "      <th>Numero de operadores</th>\n",
       "      <th>OPERADOR 1</th>\n",
       "      <th>OPERADOR 2</th>\n",
       "      <th>OPERADOR 3</th>\n",
       "      <th>OPERADOR 4</th>\n",
       "      <th>OPERADOR 5</th>\n",
       "      <th>SELLOS ANTIGUOS</th>\n",
       "      <th>SELLOS NUEVOS</th>\n",
       "    </tr>\n",
       "  </thead>\n",
       "  <tbody>\n",
       "    <tr>\n",
       "      <th>0</th>\n",
       "      <td>2022-05-24</td>\n",
       "      <td>2022-05-24 00:00:00</td>\n",
       "      <td>NaN</td>\n",
       "      <td>NaN</td>\n",
       "      <td>NaN</td>\n",
       "      <td>NaN</td>\n",
       "      <td>86</td>\n",
       "      <td>1.433333</td>\n",
       "      <td>0.0</td>\n",
       "      <td>0.000000</td>\n",
       "      <td>...</td>\n",
       "      <td>NaN</td>\n",
       "      <td>NaN</td>\n",
       "      <td>NaN</td>\n",
       "      <td>NaN</td>\n",
       "      <td>NaN</td>\n",
       "      <td>NaN</td>\n",
       "      <td>NaN</td>\n",
       "      <td>NaN</td>\n",
       "      <td>NaN</td>\n",
       "      <td>NaN</td>\n",
       "    </tr>\n",
       "    <tr>\n",
       "      <th>1</th>\n",
       "      <td>2022-05-24</td>\n",
       "      <td>2022-05-24 00:00:00</td>\n",
       "      <td>NaN</td>\n",
       "      <td>NaN</td>\n",
       "      <td>NaN</td>\n",
       "      <td>NaN</td>\n",
       "      <td>10</td>\n",
       "      <td>0.166667</td>\n",
       "      <td>0.0</td>\n",
       "      <td>0.000000</td>\n",
       "      <td>...</td>\n",
       "      <td>NaN</td>\n",
       "      <td>0.166667</td>\n",
       "      <td>NaN</td>\n",
       "      <td>NaN</td>\n",
       "      <td>NaN</td>\n",
       "      <td>NaN</td>\n",
       "      <td>NaN</td>\n",
       "      <td>NaN</td>\n",
       "      <td>NaN</td>\n",
       "      <td>NaN</td>\n",
       "    </tr>\n",
       "    <tr>\n",
       "      <th>2</th>\n",
       "      <td>2022-05-24</td>\n",
       "      <td>2022-05-24 00:00:00</td>\n",
       "      <td>NaN</td>\n",
       "      <td>NaN</td>\n",
       "      <td>NaN</td>\n",
       "      <td>NaN</td>\n",
       "      <td>235</td>\n",
       "      <td>3.916667</td>\n",
       "      <td>0.0</td>\n",
       "      <td>94.215319</td>\n",
       "      <td>...</td>\n",
       "      <td>NaN</td>\n",
       "      <td>NaN</td>\n",
       "      <td>NaN</td>\n",
       "      <td>NaN</td>\n",
       "      <td>NaN</td>\n",
       "      <td>NaN</td>\n",
       "      <td>NaN</td>\n",
       "      <td>NaN</td>\n",
       "      <td>NaN</td>\n",
       "      <td>NaN</td>\n",
       "    </tr>\n",
       "  </tbody>\n",
       "</table>\n",
       "<p>3 rows × 36 columns</p>\n",
       "</div>"
      ],
      "text/plain": [
       "  FECHA INICIAL          FECHA FINAL HORA DE INICIO H SUSP H REANU HORA FINAL  \\\n",
       "0    2022-05-24  2022-05-24 00:00:00            NaN    NaN     NaN        NaN   \n",
       "1    2022-05-24  2022-05-24 00:00:00            NaN    NaN     NaN        NaN   \n",
       "2    2022-05-24  2022-05-24 00:00:00            NaN    NaN     NaN        NaN   \n",
       "\n",
       "  STAND BY TIEMPO DE OPERACIÓN [HRS]  TASA DE BOMBEO SIN STANDBY  \\\n",
       "0       86                  1.433333                         0.0   \n",
       "1       10                  0.166667                         0.0   \n",
       "2      235                  3.916667                         0.0   \n",
       "\n",
       "   TASA DE BOMBEO REAL  ... EQUIPO DE BOMBEO HORAS HOMBRE USADAS  \\\n",
       "0             0.000000  ...              NaN                 NaN   \n",
       "1             0.000000  ...              NaN            0.166667   \n",
       "2            94.215319  ...              NaN                 NaN   \n",
       "\n",
       "  Numero de operadores OPERADOR 1  OPERADOR 2 OPERADOR 3  OPERADOR 4  \\\n",
       "0                  NaN         NaN        NaN        NaN         NaN   \n",
       "1                  NaN         NaN        NaN        NaN         NaN   \n",
       "2                  NaN         NaN        NaN        NaN         NaN   \n",
       "\n",
       "  OPERADOR 5 SELLOS ANTIGUOS SELLOS NUEVOS  \n",
       "0        NaN             NaN           NaN  \n",
       "1        NaN             NaN           NaN  \n",
       "2        NaN             NaN           NaN  \n",
       "\n",
       "[3 rows x 36 columns]"
      ]
     },
     "execution_count": 258,
     "metadata": {},
     "output_type": "execute_result"
    }
   ],
   "source": [
    "data_rop = pd.read_excel(r\"C:\\Users\\HP\\OneDrive - ZONA FRANCA INDUSTRIAL DE BIENES SERV DE CARTAGENA\\Sociedad Portuaria del Dique\\Trabajo en nube\\Manuel Angulo\\00_TablaBase_Operaciones_1.xlsx\", header=3)\n",
    "data_rop.head(3)"
   ]
  },
  {
   "cell_type": "markdown",
   "metadata": {},
   "source": [
    "Como se cargaron los datos"
   ]
  },
  {
   "cell_type": "code",
   "execution_count": 259,
   "metadata": {},
   "outputs": [
    {
     "data": {
      "text/plain": [
       "FECHA INICIAL                     datetime64[ns]\n",
       "FECHA FINAL                               object\n",
       "HORA DE INICIO                            object\n",
       "H SUSP                                    object\n",
       "H REANU                                   object\n",
       "HORA FINAL                                object\n",
       "STAND BY                                  object\n",
       "TIEMPO DE OPERACIÓN [HRS]                 object\n",
       "TASA DE BOMBEO SIN STANDBY               float64\n",
       "TASA DE BOMBEO REAL                      float64\n",
       "PRODUCTO (Guías)                          object\n",
       "API                                       object\n",
       "VOLUMEN [GAL]                             object\n",
       "VOLUMEN [BBLS] (Guías) / T. OP            object\n",
       "VOLUMEN [BBLS] (Aforo)                    object\n",
       "PESO [kg] (Bascula)                       object\n",
       "PESO [TON]                               float64\n",
       "CLIENTE                                   object\n",
       "TIPO DE OPERACIÓN [E/S/N]                 object\n",
       "TIPO DE OPERACIÓN DE TRASIEGO             object\n",
       "PLACAS                                    object\n",
       "NO VEHICULOS                             float64\n",
       "DESDE                                     object\n",
       "HACIA                                     object\n",
       "VOLUMEN CONSUMIDO PD [GAL]                object\n",
       "EFICIENCIA [TON/GAL]                     float64\n",
       "EQUIPO DE BOMBEO                         float64\n",
       "HORAS HOMBRE USADAS                      float64\n",
       "Numero de operadores                     float64\n",
       "OPERADOR 1                                object\n",
       "OPERADOR 2                                object\n",
       "OPERADOR 3                                object\n",
       "OPERADOR 4                                object\n",
       "OPERADOR 5                                object\n",
       "SELLOS ANTIGUOS                           object\n",
       "SELLOS NUEVOS                             object\n",
       "dtype: object"
      ]
     },
     "execution_count": 259,
     "metadata": {},
     "output_type": "execute_result"
    }
   ],
   "source": [
    "data_rop.dtypes"
   ]
  },
  {
   "cell_type": "markdown",
   "metadata": {},
   "source": [
    "Se filtra el mes y año de todo la base de datos de operaciones"
   ]
  },
  {
   "cell_type": "code",
   "execution_count": 260,
   "metadata": {},
   "outputs": [],
   "source": [
    "res_op_mens = data_rop[(data_rop[\"FECHA INICIAL\"].dt.year == 2024) & (data_rop[\"FECHA INICIAL\"].dt.month == 5)]"
   ]
  },
  {
   "cell_type": "code",
   "execution_count": 261,
   "metadata": {},
   "outputs": [
    {
     "data": {
      "text/plain": [
       "TIPO DE OPERACIÓN DE TRASIEGO\n",
       "CTK - TK       51\n",
       "CTK - BCZA     44\n",
       "TK - BCZA      31\n",
       "BCZA -RR       21\n",
       "BCZA - BCZA     9\n",
       "BCZA - TK       9\n",
       "BBLS - RR       4\n",
       "TK - TK         2\n",
       "RR - CTK        1\n",
       "CTK - RR        1\n",
       "Name: count, dtype: int64"
      ]
     },
     "execution_count": 261,
     "metadata": {},
     "output_type": "execute_result"
    }
   ],
   "source": [
    "#Tipos de operaciones\n",
    "res_op_mens[\"TIPO DE OPERACIÓN DE TRASIEGO\"].value_counts()"
   ]
  },
  {
   "cell_type": "code",
   "execution_count": 262,
   "metadata": {},
   "outputs": [
    {
     "name": "stderr",
     "output_type": "stream",
     "text": [
      "C:\\Users\\HP\\AppData\\Local\\Temp\\ipykernel_27236\\1120563163.py:1: SettingWithCopyWarning: \n",
      "A value is trying to be set on a copy of a slice from a DataFrame.\n",
      "Try using .loc[row_indexer,col_indexer] = value instead\n",
      "\n",
      "See the caveats in the documentation: https://pandas.pydata.org/pandas-docs/stable/user_guide/indexing.html#returning-a-view-versus-a-copy\n",
      "  res_op_mens[\"TIPO DE OPERACIÓN DE TRASIEGO\"] = res_op_mens[\"TIPO DE OPERACIÓN DE TRASIEGO\"].str.strip()\n"
     ]
    }
   ],
   "source": [
    "res_op_mens[\"TIPO DE OPERACIÓN DE TRASIEGO\"] = res_op_mens[\"TIPO DE OPERACIÓN DE TRASIEGO\"].str.strip()"
   ]
  },
  {
   "cell_type": "markdown",
   "metadata": {},
   "source": [
    "# INVENTARIO"
   ]
  },
  {
   "cell_type": "code",
   "execution_count": 263,
   "metadata": {},
   "outputs": [],
   "source": [
    "#Movimiento en los tanques \n",
    "#Se filtran las operaciones que tiene que ver con tanques de acuerdo a las categorias anteriores\n",
    "op_tks = {\"CTK - TK\", \"TK - BCZA\", \"BCZA - TK\", \"TK - TK\"}\n",
    "alma = res_op_mens[res_op_mens[\"TIPO DE OPERACIÓN DE TRASIEGO\"].isin(op_tks)]\n",
    "report_alma = alma.groupby([\"TIPO DE OPERACIÓN [E/S/N]\",\"DESDE\", \"HACIA\"])[\"VOLUMEN [BBLS] (Aforo) \"].sum()"
   ]
  },
  {
   "cell_type": "code",
   "execution_count": 264,
   "metadata": {},
   "outputs": [
    {
     "name": "stdout",
     "output_type": "stream",
     "text": [
      "              E         S\n",
      "TK101  14255.98  12788.09\n",
      "TK102  26265.02  26791.12\n",
      "TK103  19817.96  19046.58\n",
      "TK104   4864.50   4827.53\n",
      "TK105   2296.08   2098.54\n",
      "TK106   9306.62   5666.58\n",
      "TK107      0.00      0.00\n",
      "TK108   9856.59   7632.13\n"
     ]
    },
    {
     "name": "stderr",
     "output_type": "stream",
     "text": [
      "C:\\Users\\HP\\AppData\\Local\\Temp\\ipykernel_27236\\3658246072.py:5: FutureWarning: Downcasting object dtype arrays on .fillna, .ffill, .bfill is deprecated and will change in a future version. Call result.infer_objects(copy=False) instead. To opt-in to the future behavior, set `pd.set_option('future.no_silent_downcasting', True)`\n",
      "  df = df.fillna(0)\n",
      "C:\\Users\\HP\\AppData\\Local\\Temp\\ipykernel_27236\\3658246072.py:10: FutureWarning: Setting an item of incompatible dtype is deprecated and will raise an error in a future version of pandas. Value '9856.589999999997' has dtype incompatible with int64, please explicitly cast to a compatible dtype first.\n",
      "  df.at[hacia, 'E'] += valor\n",
      "C:\\Users\\HP\\AppData\\Local\\Temp\\ipykernel_27236\\3658246072.py:15: FutureWarning: Setting an item of incompatible dtype is deprecated and will raise an error in a future version of pandas. Value '872.549999999999' has dtype incompatible with int64, please explicitly cast to a compatible dtype first.\n",
      "  df.at[desde, 'S'] += valor\n"
     ]
    }
   ],
   "source": [
    "# Crear un DataFrame vacío con las filas 'TK101' a 'TK108' y columnas 'E', 'S'\n",
    "tanques = ['TK101', 'TK102', 'TK103', 'TK104', 'TK105', 'TK106', 'TK107', 'TK108']\n",
    "columnas = ['E', 'S']\n",
    "df = pd.DataFrame(index=tanques, columns=columnas)\n",
    "df = df.fillna(0)\n",
    "\n",
    "# Iterar sobre los datos agrupados y llenar el DataFrame\n",
    "for (tipo, desde, hacia), valor in report_alma.items():\n",
    "    if tipo == 'E':\n",
    "        df.at[hacia, 'E'] += valor\n",
    "    elif tipo == 'S':\n",
    "        df.at[desde, 'S'] += valor\n",
    "    elif tipo == 'N':\n",
    "        df.at[hacia, 'E'] += valor\n",
    "        df.at[desde, 'S'] += valor\n",
    "\n",
    "print(df)"
   ]
  },
  {
   "cell_type": "markdown",
   "metadata": {},
   "source": [
    "# INFORME SICOM"
   ]
  },
  {
   "cell_type": "code",
   "execution_count": 265,
   "metadata": {},
   "outputs": [
    {
     "name": "stderr",
     "output_type": "stream",
     "text": [
      "C:\\Users\\HP\\AppData\\Local\\Temp\\ipykernel_27236\\2552441888.py:2: SettingWithCopyWarning: \n",
      "A value is trying to be set on a copy of a slice from a DataFrame.\n",
      "Try using .loc[row_indexer,col_indexer] = value instead\n",
      "\n",
      "See the caveats in the documentation: https://pandas.pydata.org/pandas-docs/stable/user_guide/indexing.html#returning-a-view-versus-a-copy\n",
      "  alma_bbls[\"VOLUMEN [BBLS] (Aforo) \"] = alma_bbls[\"VOLUMEN [BBLS] (Aforo) \"].apply(lambda x: x*42)\n"
     ]
    }
   ],
   "source": [
    "alma_bbls = alma\n",
    "alma_bbls[\"VOLUMEN [BBLS] (Aforo) \"] = alma_bbls[\"VOLUMEN [BBLS] (Aforo) \"].apply(lambda x: x*42)\n",
    "report_sicom = alma_bbls.groupby([\"TIPO DE OPERACIÓN [E/S/N]\",\"DESDE\", \"HACIA\"])[\"VOLUMEN [BBLS] (Aforo) \"].sum()"
   ]
  },
  {
   "cell_type": "code",
   "execution_count": 266,
   "metadata": {},
   "outputs": [
    {
     "name": "stdout",
     "output_type": "stream",
     "text": [
      "                E           S\n",
      "TK101   598751.16   537099.78\n",
      "TK102  1103130.84  1125227.04\n",
      "TK103   832354.32   799956.36\n",
      "TK104   204309.00   202756.26\n",
      "TK105    96435.36    88138.68\n",
      "TK106   390878.04   237996.36\n",
      "TK107        0.00        0.00\n",
      "TK108   413976.78   320549.46\n"
     ]
    },
    {
     "name": "stderr",
     "output_type": "stream",
     "text": [
      "C:\\Users\\HP\\AppData\\Local\\Temp\\ipykernel_27236\\635394671.py:5: FutureWarning: Downcasting object dtype arrays on .fillna, .ffill, .bfill is deprecated and will change in a future version. Call result.infer_objects(copy=False) instead. To opt-in to the future behavior, set `pd.set_option('future.no_silent_downcasting', True)`\n",
      "  df = df.fillna(0)\n",
      "C:\\Users\\HP\\AppData\\Local\\Temp\\ipykernel_27236\\635394671.py:10: FutureWarning: Setting an item of incompatible dtype is deprecated and will raise an error in a future version of pandas. Value '413976.77999999985' has dtype incompatible with int64, please explicitly cast to a compatible dtype first.\n",
      "  df.at[hacia, 'E'] += valor\n",
      "C:\\Users\\HP\\AppData\\Local\\Temp\\ipykernel_27236\\635394671.py:15: FutureWarning: Setting an item of incompatible dtype is deprecated and will raise an error in a future version of pandas. Value '36647.09999999996' has dtype incompatible with int64, please explicitly cast to a compatible dtype first.\n",
      "  df.at[desde, 'S'] += valor\n"
     ]
    }
   ],
   "source": [
    "# Crear un DataFrame vacío con las filas 'TK101' a 'TK108' y columnas 'E', 'S'\n",
    "tanques = ['TK101', 'TK102', 'TK103', 'TK104', 'TK105', 'TK106', 'TK107', 'TK108']\n",
    "columnas = ['E', 'S']\n",
    "df = pd.DataFrame(index=tanques, columns=columnas)\n",
    "df = df.fillna(0)\n",
    "\n",
    "# Iterar sobre los datos agrupados y llenar el DataFrame\n",
    "for (tipo, desde, hacia), valor in report_sicom.items():\n",
    "    if tipo == 'E':\n",
    "        df.at[hacia, 'E'] += valor\n",
    "    elif tipo == 'S':\n",
    "        df.at[desde, 'S'] += valor\n",
    "    elif tipo == 'N':\n",
    "        df.at[hacia, 'E'] += valor\n",
    "        df.at[desde, 'S'] += valor\n",
    "\n",
    "print(df)"
   ]
  },
  {
   "cell_type": "markdown",
   "metadata": {},
   "source": [
    "# REPORTE VIGIA"
   ]
  },
  {
   "cell_type": "markdown",
   "metadata": {},
   "source": [
    "###  1. VEHICULOS"
   ]
  },
  {
   "cell_type": "code",
   "execution_count": 267,
   "metadata": {},
   "outputs": [],
   "source": [
    "vigia = res_op_mens\n",
    "op_ctk = {\"CTK - TK\", \"CTK - BCZA\", \"RR - CTK\", \"CTK - RR\", \"BCZA - CTK\", \"TK - CTK\"}\n",
    "vigia_vehiculos = vigia[vigia[\"TIPO DE OPERACIÓN DE TRASIEGO\"].isin(op_ctk)]"
   ]
  },
  {
   "cell_type": "code",
   "execution_count": 268,
   "metadata": {},
   "outputs": [],
   "source": [
    "# variables y constantes del nuevo reporte\n",
    "municipio = 13001\n",
    "ultimo_consecutivo = 4158\n",
    "vagones = 0 \n",
    "vagones_2 = 0\n",
    "consecutivo = ultimo_consecutivo+1\n",
    "clave = \"SPDIQUE\"\n",
    "\n",
    "fecha_actual = datetime.now()\n",
    "fecha_transmision = fecha_actual.replace(day = 1) - timedelta(days= 1)\n",
    "primer_dia = fecha_transmision.replace(day=1)\n",
    "dias_totales_mes_anterior = fecha_transmision - primer_dia\n",
    "dias_totales_mes_anterior = dias_totales_mes_anterior.days + 1\n",
    "fecha_transmision = fecha_transmision.strftime(\"%d/%m/%Y\")\n",
    "primer_dia = primer_dia.strftime(\"%d/%m/%Y\")\n"
   ]
  },
  {
   "cell_type": "code",
   "execution_count": 269,
   "metadata": {},
   "outputs": [],
   "source": [
    "vigia_vehiculos = vigia_vehiculos[[\"TIPO DE OPERACIÓN [E/S/N]\", \"NO VEHICULOS\", \"PESO [TON]\"]]\n",
    "vigia_vehiculos[\"NO VEHICULOS\"] = vigia_vehiculos[\"NO VEHICULOS\"].astype(\"int\")\n",
    "vigia_vehiculos.set_index(pd.Index(range(consecutivo, consecutivo+len(vigia_vehiculos))), inplace= True)"
   ]
  },
  {
   "cell_type": "code",
   "execution_count": 270,
   "metadata": {},
   "outputs": [
    {
     "data": {
      "text/html": [
       "<div>\n",
       "<style scoped>\n",
       "    .dataframe tbody tr th:only-of-type {\n",
       "        vertical-align: middle;\n",
       "    }\n",
       "\n",
       "    .dataframe tbody tr th {\n",
       "        vertical-align: top;\n",
       "    }\n",
       "\n",
       "    .dataframe thead th {\n",
       "        text-align: right;\n",
       "    }\n",
       "</style>\n",
       "<table border=\"1\" class=\"dataframe\">\n",
       "  <thead>\n",
       "    <tr style=\"text-align: right;\">\n",
       "      <th></th>\n",
       "      <th>MUNICIPIO</th>\n",
       "      <th>TIPO DE OPERACIÓN [E/S/N]</th>\n",
       "      <th>VAGONES</th>\n",
       "      <th>VAGONES_2</th>\n",
       "      <th>NO VEHICULOS</th>\n",
       "      <th>PESO [TON]</th>\n",
       "      <th>CLAVE</th>\n",
       "      <th>fecha_transmision</th>\n",
       "    </tr>\n",
       "  </thead>\n",
       "  <tbody>\n",
       "    <tr>\n",
       "      <th>4159</th>\n",
       "      <td>13001</td>\n",
       "      <td>E</td>\n",
       "      <td>0</td>\n",
       "      <td>0</td>\n",
       "      <td>19</td>\n",
       "      <td>650.17</td>\n",
       "      <td>SPDIQUE</td>\n",
       "      <td>31/05/2024</td>\n",
       "    </tr>\n",
       "    <tr>\n",
       "      <th>4160</th>\n",
       "      <td>13001</td>\n",
       "      <td>E</td>\n",
       "      <td>0</td>\n",
       "      <td>0</td>\n",
       "      <td>54</td>\n",
       "      <td>1808.31</td>\n",
       "      <td>SPDIQUE</td>\n",
       "      <td>31/05/2024</td>\n",
       "    </tr>\n",
       "    <tr>\n",
       "      <th>4161</th>\n",
       "      <td>13001</td>\n",
       "      <td>E</td>\n",
       "      <td>0</td>\n",
       "      <td>0</td>\n",
       "      <td>2</td>\n",
       "      <td>66.95</td>\n",
       "      <td>SPDIQUE</td>\n",
       "      <td>31/05/2024</td>\n",
       "    </tr>\n",
       "    <tr>\n",
       "      <th>4162</th>\n",
       "      <td>13001</td>\n",
       "      <td>E</td>\n",
       "      <td>0</td>\n",
       "      <td>0</td>\n",
       "      <td>21</td>\n",
       "      <td>704.59</td>\n",
       "      <td>SPDIQUE</td>\n",
       "      <td>31/05/2024</td>\n",
       "    </tr>\n",
       "    <tr>\n",
       "      <th>4163</th>\n",
       "      <td>13001</td>\n",
       "      <td>E</td>\n",
       "      <td>0</td>\n",
       "      <td>0</td>\n",
       "      <td>6</td>\n",
       "      <td>200.69</td>\n",
       "      <td>SPDIQUE</td>\n",
       "      <td>31/05/2024</td>\n",
       "    </tr>\n",
       "  </tbody>\n",
       "</table>\n",
       "</div>"
      ],
      "text/plain": [
       "      MUNICIPIO TIPO DE OPERACIÓN [E/S/N]  VAGONES  VAGONES_2  NO VEHICULOS  \\\n",
       "4159      13001                         E        0          0            19   \n",
       "4160      13001                         E        0          0            54   \n",
       "4161      13001                         E        0          0             2   \n",
       "4162      13001                         E        0          0            21   \n",
       "4163      13001                         E        0          0             6   \n",
       "\n",
       "      PESO [TON]    CLAVE fecha_transmision  \n",
       "4159      650.17  SPDIQUE        31/05/2024  \n",
       "4160     1808.31  SPDIQUE        31/05/2024  \n",
       "4161       66.95  SPDIQUE        31/05/2024  \n",
       "4162      704.59  SPDIQUE        31/05/2024  \n",
       "4163      200.69  SPDIQUE        31/05/2024  "
      ]
     },
     "execution_count": 270,
     "metadata": {},
     "output_type": "execute_result"
    }
   ],
   "source": [
    "vigia_vehiculos.insert(0,\"MUNICIPIO\",municipio)\n",
    "vigia_vehiculos.insert(2,\"VAGONES\",vagones)\n",
    "vigia_vehiculos.insert(3,\"VAGONES_2\",vagones_2)\n",
    "vigia_vehiculos.insert(6,\"CLAVE\",clave)\n",
    "vigia_vehiculos.insert(7,\"fecha_transmision\", fecha_transmision)\n",
    "vigia_vehiculos.head()"
   ]
  },
  {
   "cell_type": "markdown",
   "metadata": {},
   "source": [
    "Exportar archivo vehículos"
   ]
  },
  {
   "cell_type": "code",
   "execution_count": 271,
   "metadata": {},
   "outputs": [],
   "source": [
    "carpeta = r\"C:\\Users\\HP\\OneDrive - ZONA FRANCA INDUSTRIAL DE BIENES SERV DE CARTAGENA\\Sociedad Portuaria del Dique\\Trabajo en nube\\Manuel Angulo\\Reportes a Autoridades\\VIGIA\\2024\\MAYO\"\n",
    "archivo = \"vehículos.txt\"\n",
    "ruta_completa = f'{carpeta}/{archivo}'\n",
    "vigia_vehiculos.to_csv(ruta_completa, sep=\",\", index=True, header= False)"
   ]
  },
  {
   "cell_type": "markdown",
   "metadata": {},
   "source": [
    "### 2. TERRESTRE"
   ]
  },
  {
   "cell_type": "code",
   "execution_count": 272,
   "metadata": {},
   "outputs": [],
   "source": [
    "vigia_terrestre = vigia[vigia[\"TIPO DE OPERACIÓN DE TRASIEGO\"].isin(op_ctk)]"
   ]
  },
  {
   "cell_type": "code",
   "execution_count": 273,
   "metadata": {},
   "outputs": [],
   "source": [
    "nit_sin_digito = 806012654\n",
    "codigo_puerto = 4\n",
    "vigia_terrestre = vigia_terrestre[[\"FECHA INICIAL\", \"FECHA FINAL\"]]\n",
    "vigia_terrestre[\"FECHA INICIAL\"] = vigia_terrestre[\"FECHA INICIAL\"].dt.strftime(\"%d/%m/%Y\")\n",
    "vigia_terrestre[\"FECHA FINAL\"] = pd.to_datetime(vigia_terrestre[\"FECHA FINAL\"])\n",
    "vigia_terrestre[\"FECHA FINAL\"] = vigia_terrestre[\"FECHA FINAL\"].dt.strftime(\"%d/%m/%Y\")"
   ]
  },
  {
   "cell_type": "code",
   "execution_count": 274,
   "metadata": {},
   "outputs": [
    {
     "data": {
      "text/html": [
       "<div>\n",
       "<style scoped>\n",
       "    .dataframe tbody tr th:only-of-type {\n",
       "        vertical-align: middle;\n",
       "    }\n",
       "\n",
       "    .dataframe tbody tr th {\n",
       "        vertical-align: top;\n",
       "    }\n",
       "\n",
       "    .dataframe thead th {\n",
       "        text-align: right;\n",
       "    }\n",
       "</style>\n",
       "<table border=\"1\" class=\"dataframe\">\n",
       "  <thead>\n",
       "    <tr style=\"text-align: right;\">\n",
       "      <th></th>\n",
       "      <th>nit_sin_digito</th>\n",
       "      <th>codigo_puerto</th>\n",
       "      <th>FECHA INICIAL</th>\n",
       "      <th>FECHA FINAL</th>\n",
       "      <th>consecutivo</th>\n",
       "      <th>CLAVE</th>\n",
       "      <th>fecha_transmision</th>\n",
       "    </tr>\n",
       "  </thead>\n",
       "  <tbody>\n",
       "    <tr>\n",
       "      <th>4159</th>\n",
       "      <td>806012654</td>\n",
       "      <td>4</td>\n",
       "      <td>01/05/2024</td>\n",
       "      <td>01/05/2024</td>\n",
       "      <td>4159</td>\n",
       "      <td>SPDIQUE</td>\n",
       "      <td>31/05/2024</td>\n",
       "    </tr>\n",
       "    <tr>\n",
       "      <th>4160</th>\n",
       "      <td>806012654</td>\n",
       "      <td>4</td>\n",
       "      <td>01/05/2024</td>\n",
       "      <td>01/05/2024</td>\n",
       "      <td>4160</td>\n",
       "      <td>SPDIQUE</td>\n",
       "      <td>31/05/2024</td>\n",
       "    </tr>\n",
       "    <tr>\n",
       "      <th>4161</th>\n",
       "      <td>806012654</td>\n",
       "      <td>4</td>\n",
       "      <td>02/05/2024</td>\n",
       "      <td>02/05/2024</td>\n",
       "      <td>4161</td>\n",
       "      <td>SPDIQUE</td>\n",
       "      <td>31/05/2024</td>\n",
       "    </tr>\n",
       "    <tr>\n",
       "      <th>4162</th>\n",
       "      <td>806012654</td>\n",
       "      <td>4</td>\n",
       "      <td>02/05/2024</td>\n",
       "      <td>02/05/2024</td>\n",
       "      <td>4162</td>\n",
       "      <td>SPDIQUE</td>\n",
       "      <td>31/05/2024</td>\n",
       "    </tr>\n",
       "    <tr>\n",
       "      <th>4163</th>\n",
       "      <td>806012654</td>\n",
       "      <td>4</td>\n",
       "      <td>02/05/2024</td>\n",
       "      <td>02/05/2024</td>\n",
       "      <td>4163</td>\n",
       "      <td>SPDIQUE</td>\n",
       "      <td>31/05/2024</td>\n",
       "    </tr>\n",
       "  </tbody>\n",
       "</table>\n",
       "</div>"
      ],
      "text/plain": [
       "      nit_sin_digito  codigo_puerto FECHA INICIAL FECHA FINAL  consecutivo  \\\n",
       "4159       806012654              4    01/05/2024  01/05/2024         4159   \n",
       "4160       806012654              4    01/05/2024  01/05/2024         4160   \n",
       "4161       806012654              4    02/05/2024  02/05/2024         4161   \n",
       "4162       806012654              4    02/05/2024  02/05/2024         4162   \n",
       "4163       806012654              4    02/05/2024  02/05/2024         4163   \n",
       "\n",
       "        CLAVE fecha_transmision  \n",
       "4159  SPDIQUE        31/05/2024  \n",
       "4160  SPDIQUE        31/05/2024  \n",
       "4161  SPDIQUE        31/05/2024  \n",
       "4162  SPDIQUE        31/05/2024  \n",
       "4163  SPDIQUE        31/05/2024  "
      ]
     },
     "execution_count": 274,
     "metadata": {},
     "output_type": "execute_result"
    }
   ],
   "source": [
    "vigia_terrestre.insert(0,\"nit_sin_digito\",nit_sin_digito)\n",
    "vigia_terrestre.insert(1,\"codigo_puerto\",codigo_puerto)\n",
    "vigia_terrestre.set_index(pd.Index(range(consecutivo, consecutivo+len(vigia_terrestre))), inplace= True)\n",
    "vigia_terrestre[\"consecutivo\"] = vigia_terrestre.index\n",
    "vigia_terrestre.insert(5,\"CLAVE\",clave)\n",
    "vigia_terrestre.insert(6,\"fecha_transmision\", fecha_transmision)\n",
    "vigia_terrestre.head()"
   ]
  },
  {
   "cell_type": "markdown",
   "metadata": {},
   "source": [
    "Exportar archivo terrestre"
   ]
  },
  {
   "cell_type": "code",
   "execution_count": 275,
   "metadata": {},
   "outputs": [],
   "source": [
    "carpeta = r\"C:\\Users\\HP\\OneDrive - ZONA FRANCA INDUSTRIAL DE BIENES SERV DE CARTAGENA\\Sociedad Portuaria del Dique\\Trabajo en nube\\Manuel Angulo\\Reportes a Autoridades\\VIGIA\\2024\\MAYO\"\n",
    "archivo = \"terrestre.txt\"\n",
    "ruta_completa = f'{carpeta}/{archivo}'\n",
    "vigia_terrestre.to_csv(ruta_completa, sep=\",\", index=False, header= False)"
   ]
  },
  {
   "cell_type": "markdown",
   "metadata": {},
   "source": [
    "### PRODUCTO"
   ]
  },
  {
   "cell_type": "code",
   "execution_count": 276,
   "metadata": {},
   "outputs": [],
   "source": [
    "ult_consecutivo_producto = 9684\n",
    "consecutivo_producto = ult_consecutivo_producto + 1 \n",
    "trafico = 2 \n",
    "tipo_carga = 4 \n",
    "tipo_grupo_producto = 4 \n",
    "tipo_producto = \"084\"\n",
    "tipo_embalaje = 17\n",
    "und_contenedor = 0  \n",
    "tipo_clase_carga = 2\n",
    "pais = 1"
   ]
  },
  {
   "cell_type": "code",
   "execution_count": 277,
   "metadata": {},
   "outputs": [],
   "source": [
    "ops_bcza = {\"CTK - BCZA\", \"BCZA - CTK\", \"TK - BCZA\", \"BCZA -RR\", \"BCZA - BCZA\", \"BCZA - TK\"}\n",
    "vigia_producto = vigia[(vigia[\"TIPO DE OPERACIÓN DE TRASIEGO\"].isin(ops_bcza)) & (vigia[\"CLIENTE \"] != \"Impala\")]\n",
    "vigia_producto = vigia_producto[[\"TIPO DE OPERACIÓN DE TRASIEGO\", \"PESO [TON]\"]]\n",
    "vigia_producto.set_index(pd.Index(range(consecutivo_producto, consecutivo_producto+len(vigia_producto))), inplace= True)"
   ]
  },
  {
   "cell_type": "code",
   "execution_count": 278,
   "metadata": {},
   "outputs": [],
   "source": [
    "vigia_producto.insert(0,\"TRAFICO\", trafico)\n",
    "vigia_producto.insert(1,\"TIPO CARGA\", tipo_carga)\n",
    "vigia_producto.insert(2,\"TIPO GRUPO PRODUCTO\", tipo_grupo_producto)\n",
    "vigia_producto.insert(3,\"TIPO PRODUCTO\", tipo_producto)"
   ]
  },
  {
   "cell_type": "code",
   "execution_count": 279,
   "metadata": {},
   "outputs": [],
   "source": [
    "ops_bcza_cargue = {\"CTK - BCZA\", \"TK - BCZA\", \"BCZA - BCZA\"}\n",
    "vigia_producto[\"TIPO DE OPERACIÓN DE TRASIEGO\"] = vigia_producto[\"TIPO DE OPERACIÓN DE TRASIEGO\"].apply(lambda x: 7 if x in ops_bcza_cargue else 8)"
   ]
  },
  {
   "cell_type": "code",
   "execution_count": 280,
   "metadata": {},
   "outputs": [],
   "source": [
    "vigia_producto.insert(5, \"TIPO EMBALAJE\", tipo_embalaje)\n",
    "vigia_producto.insert(6, \"UND CONTENEDOR\", und_contenedor)\n",
    "vigia_producto.insert(7, \"TIPO CLASE DE CARGA\", tipo_clase_carga)"
   ]
  },
  {
   "cell_type": "code",
   "execution_count": 281,
   "metadata": {},
   "outputs": [],
   "source": [
    "vigia_producto[\"CARGUE / DESCARGUE\"] = vigia_producto[\"TIPO DE OPERACIÓN DE TRASIEGO\"].apply(lambda x: 1 if x==7 else 2)\n",
    "columna_cargue_descargue = vigia_producto.pop(\"CARGUE / DESCARGUE\")\n",
    "vigia_producto.insert(8, \"CARGUE / DESCARGUE\", columna_cargue_descargue)"
   ]
  },
  {
   "cell_type": "code",
   "execution_count": 282,
   "metadata": {},
   "outputs": [],
   "source": [
    "vigia_producto.insert(9, \"PAIS\", pais)"
   ]
  },
  {
   "cell_type": "code",
   "execution_count": 283,
   "metadata": {},
   "outputs": [
    {
     "data": {
      "text/html": [
       "<div>\n",
       "<style scoped>\n",
       "    .dataframe tbody tr th:only-of-type {\n",
       "        vertical-align: middle;\n",
       "    }\n",
       "\n",
       "    .dataframe tbody tr th {\n",
       "        vertical-align: top;\n",
       "    }\n",
       "\n",
       "    .dataframe thead th {\n",
       "        text-align: right;\n",
       "    }\n",
       "</style>\n",
       "<table border=\"1\" class=\"dataframe\">\n",
       "  <thead>\n",
       "    <tr style=\"text-align: right;\">\n",
       "      <th></th>\n",
       "      <th>TRAFICO</th>\n",
       "      <th>TIPO CARGA</th>\n",
       "      <th>TIPO GRUPO PRODUCTO</th>\n",
       "      <th>TIPO PRODUCTO</th>\n",
       "      <th>TIPO DE OPERACIÓN DE TRASIEGO</th>\n",
       "      <th>TIPO EMBALAJE</th>\n",
       "      <th>UND CONTENEDOR</th>\n",
       "      <th>TIPO CLASE DE CARGA</th>\n",
       "      <th>CARGUE / DESCARGUE</th>\n",
       "      <th>PAIS</th>\n",
       "      <th>PESO [TON]</th>\n",
       "      <th>CLAVE</th>\n",
       "      <th>FECHA TRANSMISION</th>\n",
       "    </tr>\n",
       "  </thead>\n",
       "  <tbody>\n",
       "    <tr>\n",
       "      <th>9685</th>\n",
       "      <td>2</td>\n",
       "      <td>4</td>\n",
       "      <td>4</td>\n",
       "      <td>084</td>\n",
       "      <td>7</td>\n",
       "      <td>17</td>\n",
       "      <td>0</td>\n",
       "      <td>2</td>\n",
       "      <td>1</td>\n",
       "      <td>1</td>\n",
       "      <td>650.17</td>\n",
       "      <td>SPDIQUE</td>\n",
       "      <td>31/05/2024</td>\n",
       "    </tr>\n",
       "    <tr>\n",
       "      <th>9686</th>\n",
       "      <td>2</td>\n",
       "      <td>4</td>\n",
       "      <td>4</td>\n",
       "      <td>084</td>\n",
       "      <td>7</td>\n",
       "      <td>17</td>\n",
       "      <td>0</td>\n",
       "      <td>2</td>\n",
       "      <td>1</td>\n",
       "      <td>1</td>\n",
       "      <td>1808.31</td>\n",
       "      <td>SPDIQUE</td>\n",
       "      <td>31/05/2024</td>\n",
       "    </tr>\n",
       "    <tr>\n",
       "      <th>9687</th>\n",
       "      <td>2</td>\n",
       "      <td>4</td>\n",
       "      <td>4</td>\n",
       "      <td>084</td>\n",
       "      <td>7</td>\n",
       "      <td>17</td>\n",
       "      <td>0</td>\n",
       "      <td>2</td>\n",
       "      <td>1</td>\n",
       "      <td>1</td>\n",
       "      <td>66.95</td>\n",
       "      <td>SPDIQUE</td>\n",
       "      <td>31/05/2024</td>\n",
       "    </tr>\n",
       "    <tr>\n",
       "      <th>9688</th>\n",
       "      <td>2</td>\n",
       "      <td>4</td>\n",
       "      <td>4</td>\n",
       "      <td>084</td>\n",
       "      <td>7</td>\n",
       "      <td>17</td>\n",
       "      <td>0</td>\n",
       "      <td>2</td>\n",
       "      <td>1</td>\n",
       "      <td>1</td>\n",
       "      <td>704.59</td>\n",
       "      <td>SPDIQUE</td>\n",
       "      <td>31/05/2024</td>\n",
       "    </tr>\n",
       "    <tr>\n",
       "      <th>9689</th>\n",
       "      <td>2</td>\n",
       "      <td>4</td>\n",
       "      <td>4</td>\n",
       "      <td>084</td>\n",
       "      <td>7</td>\n",
       "      <td>17</td>\n",
       "      <td>0</td>\n",
       "      <td>2</td>\n",
       "      <td>1</td>\n",
       "      <td>1</td>\n",
       "      <td>200.69</td>\n",
       "      <td>SPDIQUE</td>\n",
       "      <td>31/05/2024</td>\n",
       "    </tr>\n",
       "  </tbody>\n",
       "</table>\n",
       "</div>"
      ],
      "text/plain": [
       "      TRAFICO  TIPO CARGA  TIPO GRUPO PRODUCTO TIPO PRODUCTO  \\\n",
       "9685        2           4                    4           084   \n",
       "9686        2           4                    4           084   \n",
       "9687        2           4                    4           084   \n",
       "9688        2           4                    4           084   \n",
       "9689        2           4                    4           084   \n",
       "\n",
       "      TIPO DE OPERACIÓN DE TRASIEGO  TIPO EMBALAJE  UND CONTENEDOR  \\\n",
       "9685                              7             17               0   \n",
       "9686                              7             17               0   \n",
       "9687                              7             17               0   \n",
       "9688                              7             17               0   \n",
       "9689                              7             17               0   \n",
       "\n",
       "      TIPO CLASE DE CARGA  CARGUE / DESCARGUE  PAIS  PESO [TON]    CLAVE  \\\n",
       "9685                    2                   1     1      650.17  SPDIQUE   \n",
       "9686                    2                   1     1     1808.31  SPDIQUE   \n",
       "9687                    2                   1     1       66.95  SPDIQUE   \n",
       "9688                    2                   1     1      704.59  SPDIQUE   \n",
       "9689                    2                   1     1      200.69  SPDIQUE   \n",
       "\n",
       "     FECHA TRANSMISION  \n",
       "9685        31/05/2024  \n",
       "9686        31/05/2024  \n",
       "9687        31/05/2024  \n",
       "9688        31/05/2024  \n",
       "9689        31/05/2024  "
      ]
     },
     "execution_count": 283,
     "metadata": {},
     "output_type": "execute_result"
    }
   ],
   "source": [
    "vigia_producto.insert(11,\"CLAVE\", clave)\n",
    "vigia_producto.insert(12, \"FECHA TRANSMISION\", fecha_transmision)\n",
    "vigia_producto[\"PESO [TON]\"] = vigia_producto[\"PESO [TON]\"].round(2)\n",
    "vigia_producto.head()"
   ]
  },
  {
   "cell_type": "markdown",
   "metadata": {},
   "source": [
    "Exportar este data frame de producto"
   ]
  },
  {
   "cell_type": "code",
   "execution_count": 284,
   "metadata": {},
   "outputs": [],
   "source": [
    "carpeta = r\"C:\\Users\\HP\\OneDrive - ZONA FRANCA INDUSTRIAL DE BIENES SERV DE CARTAGENA\\Sociedad Portuaria del Dique\\Trabajo en nube\\Manuel Angulo\\Reportes a Autoridades\\VIGIA\\2024\\MAYO\"\n",
    "archivo = \"productos.txt\"\n",
    "ruta_completa = f'{carpeta}/{archivo}'\n",
    "vigia_producto.to_csv(ruta_completa, sep=\",\", index=True, header= False)"
   ]
  },
  {
   "cell_type": "markdown",
   "metadata": {},
   "source": [
    "### OPERACIONES"
   ]
  },
  {
   "cell_type": "code",
   "execution_count": 285,
   "metadata": {},
   "outputs": [],
   "source": [
    "vigia_operaciones = vigia[(vigia[\"TIPO DE OPERACIÓN DE TRASIEGO\"].isin(ops_bcza)) & (vigia[\"CLIENTE \"] != \"Impala\")]\n",
    "vigia_operaciones = vigia_operaciones[[\"FECHA INICIAL\", \"FECHA FINAL\", \"TIEMPO DE OPERACIÓN [HRS]\", \"TIPO DE OPERACIÓN DE TRASIEGO\", \"CLIENTE \", \"DESDE\", \"HACIA\"]]"
   ]
  },
  {
   "cell_type": "code",
   "execution_count": 286,
   "metadata": {},
   "outputs": [],
   "source": [
    "# Constantes\n",
    "puesto_atraque = 1\n",
    "servicio = 1\n",
    "tiempo_no_laborado = 0\n",
    "tiempo_pilotaje = 0\n",
    "cod_causa = 0\n",
    "tipo_sub_grup = 0\n",
    "tipo_cod_causa = 0"
   ]
  },
  {
   "cell_type": "code",
   "execution_count": 287,
   "metadata": {},
   "outputs": [],
   "source": [
    "vigia_operaciones[\"FECHA INICIAL\"] = vigia_operaciones[\"FECHA INICIAL\"].dt.strftime(\"%d/%m/%Y\")\n",
    "vigia_operaciones[\"FECHA FINAL\"] = pd.to_datetime(vigia_operaciones[\"FECHA FINAL\"])\n",
    "vigia_operaciones[\"FECHA FINAL\"] = vigia_operaciones[\"FECHA FINAL\"].dt.strftime(\"%d/%m/%Y\")"
   ]
  },
  {
   "cell_type": "code",
   "execution_count": 288,
   "metadata": {},
   "outputs": [],
   "source": [
    "vigia_operaciones.insert(0, \"NIT SIN DIGITO\", nit_sin_digito)\n",
    "vigia_operaciones.insert(1, \"CODIGO PUERTO\", codigo_puerto)\n",
    "vigia_operaciones.insert(2, \"PUESTO DE ATRAQUE\", puesto_atraque)"
   ]
  },
  {
   "cell_type": "code",
   "execution_count": 289,
   "metadata": {},
   "outputs": [
    {
     "data": {
      "text/plain": [
       "HACIA\n",
       "BARCAZA CR            33\n",
       "Oiltech I             15\n",
       "BARCAZA URABÁ         15\n",
       "Alcaman               10\n",
       "TRATANK 52             4\n",
       "BARCAZA ARQUIMEDES     4\n",
       "TK108                  4\n",
       "TK102                  2\n",
       "Alpha Dos              2\n",
       "TK106                  2\n",
       "Tratank 02             1\n",
       "TK103                  1\n",
       "Name: count, dtype: int64"
      ]
     },
     "execution_count": 289,
     "metadata": {},
     "output_type": "execute_result"
    }
   ],
   "source": [
    "vigia_operaciones[\"HACIA\"].value_counts()"
   ]
  },
  {
   "cell_type": "code",
   "execution_count": 290,
   "metadata": {},
   "outputs": [
    {
     "data": {
      "text/plain": [
       "DESDE\n",
       "CARROTANQUES          44\n",
       "TK102                  9\n",
       "TK101                  7\n",
       "TK103                  6\n",
       "TK108                  4\n",
       "BARCAZA ARQUIMEDES     4\n",
       "BARCAZA URABÁ          3\n",
       "Oiltech I              2\n",
       "BARCAZA MARGOTH P6     2\n",
       "TK105                  2\n",
       "TK106                  2\n",
       "Magfuel 2              2\n",
       "MARGOTH P6             2\n",
       "TK104                  1\n",
       "BARCAZA CR             1\n",
       "BARCAZA CR             1\n",
       "Alcaman                1\n",
       "Name: count, dtype: int64"
      ]
     },
     "execution_count": 290,
     "metadata": {},
     "output_type": "execute_result"
    }
   ],
   "source": [
    "vigia_operaciones[\"DESDE\"].value_counts()"
   ]
  },
  {
   "cell_type": "code",
   "execution_count": 291,
   "metadata": {},
   "outputs": [],
   "source": [
    "diccionario_artefactos_navieros = {\n",
    "    'Alcaman': {'OMI': 50127, 'Calado': 3.32},\n",
    "    'BARCAZA CR': {'OMI': 9773416, 'Calado': 2.93},\n",
    "    'Oiltech I': {'OMI': 50172, 'Calado': 2.97},\n",
    "    'BARCAZA URABÁ': {'OMI': 30133, 'Calado': 3.32},\n",
    "    'TRATANK 52': {'OMI': 30251, 'Calado': 3.35},\n",
    "    'BARCAZA ARQUIMEDES': {'OMI': 5676, 'Calado': 2.1},\n",
    "    'Alpha Dos': {'OMI': 7986, 'Calado': 1.54},\n",
    "    'Tratank 02': {'OMI': 30150, 'Calado': 3.35},\n",
    "    'MARGOTH P6': {'OMI': 30115, 'Calado': 1.53},\n",
    "    'Magfuel 2': {'OMI': 30268, 'Calado': 1.85}\n",
    "}"
   ]
  },
  {
   "cell_type": "code",
   "execution_count": 292,
   "metadata": {},
   "outputs": [],
   "source": [
    "# Función para obtener el número IMO\n",
    "def obtener_numero_imo(nombre_artefacto, fila):\n",
    "    if nombre_artefacto in diccionario_artefactos_navieros:\n",
    "        return diccionario_artefactos_navieros[nombre_artefacto][\"OMI\"]\n",
    "    elif vigia_operaciones.at[fila, 'DESDE'] in diccionario_artefactos_navieros:\n",
    "        return diccionario_artefactos_navieros[vigia_operaciones.at[fila, 'DESDE']][\"OMI\"]\n",
    "    else:\n",
    "        return None"
   ]
  },
  {
   "cell_type": "code",
   "execution_count": 293,
   "metadata": {},
   "outputs": [],
   "source": [
    "# Función para obtener el CALADO\n",
    "def obtener_calado(nombre_artefacto, fila):\n",
    "    if nombre_artefacto in diccionario_artefactos_navieros:\n",
    "        return diccionario_artefactos_navieros[nombre_artefacto][\"Calado\"]\n",
    "    elif vigia_operaciones.at[fila, 'DESDE'] in diccionario_artefactos_navieros:\n",
    "        return diccionario_artefactos_navieros[vigia_operaciones.at[fila, 'DESDE']][\"Calado\"]\n",
    "    else:\n",
    "        return None"
   ]
  },
  {
   "cell_type": "code",
   "execution_count": 294,
   "metadata": {},
   "outputs": [],
   "source": [
    "vigia_operaciones['OMI'] = vigia_operaciones.apply(lambda row: obtener_numero_imo(row['HACIA'], row.name), axis=1)\n",
    "vigia_operaciones['Calado'] = vigia_operaciones.apply(lambda row: obtener_calado(row['HACIA'], row.name), axis=1)"
   ]
  },
  {
   "cell_type": "code",
   "execution_count": 295,
   "metadata": {},
   "outputs": [],
   "source": [
    "columna_omi = vigia_operaciones.pop(\"OMI\")\n",
    "vigia_operaciones.insert(5, \"OMI\", columna_omi)"
   ]
  },
  {
   "cell_type": "code",
   "execution_count": 296,
   "metadata": {},
   "outputs": [
    {
     "data": {
      "text/plain": [
       "CLIENTE \n",
       "Atlantic Marine             29\n",
       "Caribbean Word Trade        19\n",
       "Fuel and bunker Colombia    15\n",
       "Octano Industrial           13\n",
       "Caribbean Bunker             8\n",
       "TRAFIGURA                    5\n",
       "Prodexport                   4\n",
       "Name: count, dtype: int64"
      ]
     },
     "execution_count": 296,
     "metadata": {},
     "output_type": "execute_result"
    }
   ],
   "source": [
    "vigia_operaciones[\"CLIENTE \"].value_counts()"
   ]
  },
  {
   "cell_type": "code",
   "execution_count": 297,
   "metadata": {},
   "outputs": [],
   "source": [
    "diccionario_navieros = {\n",
    "    'Atlantic Marine': {'nit_naviero': 9006144232, 'nit_operador_sin_digito': 9006144232},\n",
    "    'Caribbean Word Trade': {'nit_naviero': 9013129603, 'nit_operador_sin_digito': 900949195},\n",
    "    'Fuel and bunker Colombia': {'nit_naviero': 9012220501, 'nit_operador_sin_digito': 900949195},\n",
    "    'Octano Industrial': {'nit_naviero': 9011235498, 'nit_operador_sin_digito': 900949195},\n",
    "    'Caribbean Bunker': {'nit_naviero': 9003289140, 'nit_operador_sin_digito': 806012654},\n",
    "    'TRAFIGURA ': {'nit_naviero': 9005850678, 'nit_operador_sin_digito': 806012654},\n",
    "    'Prodexport': {'nit_naviero': 900992281, 'nit_operador_sin_digito': 806014007}\n",
    "}"
   ]
  },
  {
   "cell_type": "code",
   "execution_count": 298,
   "metadata": {},
   "outputs": [],
   "source": [
    "def obtener_nit_naviero(nombre_naviero):\n",
    "    nombre_naviero = str(nombre_naviero)\n",
    "    if nombre_naviero in diccionario_navieros:\n",
    "        return diccionario_navieros[nombre_naviero][\"nit_naviero\"]\n",
    "    else:\n",
    "        return None"
   ]
  },
  {
   "cell_type": "code",
   "execution_count": 299,
   "metadata": {},
   "outputs": [],
   "source": [
    "vigia_operaciones['nit_naviero'] = vigia_operaciones[\"CLIENTE \"].apply(obtener_nit_naviero)"
   ]
  },
  {
   "cell_type": "code",
   "execution_count": 300,
   "metadata": {},
   "outputs": [],
   "source": [
    "columna_nit_naviero = vigia_operaciones.pop(\"nit_naviero\")\n",
    "columna_calado = vigia_operaciones.pop(\"Calado\")\n",
    "vigia_operaciones.insert(6, \"nit_naviero\", columna_nit_naviero)\n",
    "vigia_operaciones.insert(7, \"Calado\", columna_calado)\n",
    "vigia_operaciones.insert(8,\"SERVICIO\", servicio)"
   ]
  },
  {
   "cell_type": "code",
   "execution_count": 301,
   "metadata": {},
   "outputs": [],
   "source": [
    "def obtener_nit_operador_sin_digito(nombre_naviero):\n",
    "    nombre_naviero = str(nombre_naviero)\n",
    "    if nombre_naviero in diccionario_navieros:\n",
    "        return diccionario_navieros[nombre_naviero][\"nit_operador_sin_digito\"]\n",
    "    else:\n",
    "        return None"
   ]
  },
  {
   "cell_type": "code",
   "execution_count": 302,
   "metadata": {},
   "outputs": [],
   "source": [
    "vigia_operaciones['nit_operador_sin_digito'] = vigia_operaciones[\"CLIENTE \"].apply(obtener_nit_operador_sin_digito)"
   ]
  },
  {
   "cell_type": "code",
   "execution_count": 303,
   "metadata": {},
   "outputs": [],
   "source": [
    "columna_nit_operador_sin_digito = vigia_operaciones.pop(\"nit_operador_sin_digito\")\n",
    "vigia_operaciones.insert(9, \"nit_operador_sin_digito\", columna_nit_operador_sin_digito)"
   ]
  },
  {
   "cell_type": "code",
   "execution_count": 304,
   "metadata": {},
   "outputs": [],
   "source": [
    "vigia_operaciones = vigia_operaciones.drop([\"CLIENTE \", \"DESDE\", \"HACIA\", \"TIPO DE OPERACIÓN DE TRASIEGO\"], axis= 1)"
   ]
  },
  {
   "cell_type": "code",
   "execution_count": 305,
   "metadata": {},
   "outputs": [
    {
     "data": {
      "text/html": [
       "<div>\n",
       "<style scoped>\n",
       "    .dataframe tbody tr th:only-of-type {\n",
       "        vertical-align: middle;\n",
       "    }\n",
       "\n",
       "    .dataframe tbody tr th {\n",
       "        vertical-align: top;\n",
       "    }\n",
       "\n",
       "    .dataframe thead th {\n",
       "        text-align: right;\n",
       "    }\n",
       "</style>\n",
       "<table border=\"1\" class=\"dataframe\">\n",
       "  <thead>\n",
       "    <tr style=\"text-align: right;\">\n",
       "      <th></th>\n",
       "      <th>NIT SIN DIGITO</th>\n",
       "      <th>CODIGO PUERTO</th>\n",
       "      <th>PUESTO DE ATRAQUE</th>\n",
       "      <th>FECHA INICIAL</th>\n",
       "      <th>FECHA FINAL</th>\n",
       "      <th>OMI</th>\n",
       "      <th>nit_naviero</th>\n",
       "      <th>Calado</th>\n",
       "      <th>SERVICIO</th>\n",
       "      <th>nit_operador_sin_digito</th>\n",
       "      <th>TIEMPO DE OPERACIÓN [HRS]</th>\n",
       "      <th>tiempo_no_laborado</th>\n",
       "      <th>tiempo_pilotaje</th>\n",
       "      <th>clave</th>\n",
       "      <th>fecha_transmision</th>\n",
       "      <th>codigo_causa_int</th>\n",
       "      <th>tipo_sub_grupo</th>\n",
       "      <th>tipo_codigo_causa_int</th>\n",
       "    </tr>\n",
       "  </thead>\n",
       "  <tbody>\n",
       "    <tr>\n",
       "      <th>3499</th>\n",
       "      <td>806012654</td>\n",
       "      <td>4</td>\n",
       "      <td>1</td>\n",
       "      <td>01/05/2024</td>\n",
       "      <td>01/05/2024</td>\n",
       "      <td>50172</td>\n",
       "      <td>9012220501</td>\n",
       "      <td>2.97</td>\n",
       "      <td>1</td>\n",
       "      <td>900949195</td>\n",
       "      <td>3.67</td>\n",
       "      <td>0</td>\n",
       "      <td>0</td>\n",
       "      <td>SPDIQUE</td>\n",
       "      <td>31/05/2024</td>\n",
       "      <td>0</td>\n",
       "      <td>0</td>\n",
       "      <td>0</td>\n",
       "    </tr>\n",
       "    <tr>\n",
       "      <th>3500</th>\n",
       "      <td>806012654</td>\n",
       "      <td>4</td>\n",
       "      <td>1</td>\n",
       "      <td>01/05/2024</td>\n",
       "      <td>01/05/2024</td>\n",
       "      <td>30251</td>\n",
       "      <td>9005850678</td>\n",
       "      <td>3.35</td>\n",
       "      <td>1</td>\n",
       "      <td>806012654</td>\n",
       "      <td>7.58</td>\n",
       "      <td>0</td>\n",
       "      <td>0</td>\n",
       "      <td>SPDIQUE</td>\n",
       "      <td>31/05/2024</td>\n",
       "      <td>0</td>\n",
       "      <td>0</td>\n",
       "      <td>0</td>\n",
       "    </tr>\n",
       "    <tr>\n",
       "      <th>3502</th>\n",
       "      <td>806012654</td>\n",
       "      <td>4</td>\n",
       "      <td>1</td>\n",
       "      <td>02/05/2024</td>\n",
       "      <td>02/05/2024</td>\n",
       "      <td>30251</td>\n",
       "      <td>9005850678</td>\n",
       "      <td>3.35</td>\n",
       "      <td>1</td>\n",
       "      <td>806012654</td>\n",
       "      <td>0.48</td>\n",
       "      <td>0</td>\n",
       "      <td>0</td>\n",
       "      <td>SPDIQUE</td>\n",
       "      <td>31/05/2024</td>\n",
       "      <td>0</td>\n",
       "      <td>0</td>\n",
       "      <td>0</td>\n",
       "    </tr>\n",
       "    <tr>\n",
       "      <th>3503</th>\n",
       "      <td>806012654</td>\n",
       "      <td>4</td>\n",
       "      <td>1</td>\n",
       "      <td>02/05/2024</td>\n",
       "      <td>02/05/2024</td>\n",
       "      <td>30251</td>\n",
       "      <td>9005850678</td>\n",
       "      <td>3.35</td>\n",
       "      <td>1</td>\n",
       "      <td>806012654</td>\n",
       "      <td>3.17</td>\n",
       "      <td>0</td>\n",
       "      <td>0</td>\n",
       "      <td>SPDIQUE</td>\n",
       "      <td>31/05/2024</td>\n",
       "      <td>0</td>\n",
       "      <td>0</td>\n",
       "      <td>0</td>\n",
       "    </tr>\n",
       "    <tr>\n",
       "      <th>3504</th>\n",
       "      <td>806012654</td>\n",
       "      <td>4</td>\n",
       "      <td>1</td>\n",
       "      <td>02/05/2024</td>\n",
       "      <td>02/05/2024</td>\n",
       "      <td>30150</td>\n",
       "      <td>9005850678</td>\n",
       "      <td>3.35</td>\n",
       "      <td>1</td>\n",
       "      <td>806012654</td>\n",
       "      <td>1.25</td>\n",
       "      <td>0</td>\n",
       "      <td>0</td>\n",
       "      <td>SPDIQUE</td>\n",
       "      <td>31/05/2024</td>\n",
       "      <td>0</td>\n",
       "      <td>0</td>\n",
       "      <td>0</td>\n",
       "    </tr>\n",
       "  </tbody>\n",
       "</table>\n",
       "</div>"
      ],
      "text/plain": [
       "      NIT SIN DIGITO  CODIGO PUERTO  PUESTO DE ATRAQUE FECHA INICIAL  \\\n",
       "3499       806012654              4                  1    01/05/2024   \n",
       "3500       806012654              4                  1    01/05/2024   \n",
       "3502       806012654              4                  1    02/05/2024   \n",
       "3503       806012654              4                  1    02/05/2024   \n",
       "3504       806012654              4                  1    02/05/2024   \n",
       "\n",
       "     FECHA FINAL    OMI  nit_naviero  Calado  SERVICIO  \\\n",
       "3499  01/05/2024  50172   9012220501    2.97         1   \n",
       "3500  01/05/2024  30251   9005850678    3.35         1   \n",
       "3502  02/05/2024  30251   9005850678    3.35         1   \n",
       "3503  02/05/2024  30251   9005850678    3.35         1   \n",
       "3504  02/05/2024  30150   9005850678    3.35         1   \n",
       "\n",
       "      nit_operador_sin_digito  TIEMPO DE OPERACIÓN [HRS]  tiempo_no_laborado  \\\n",
       "3499                900949195                       3.67                   0   \n",
       "3500                806012654                       7.58                   0   \n",
       "3502                806012654                       0.48                   0   \n",
       "3503                806012654                       3.17                   0   \n",
       "3504                806012654                       1.25                   0   \n",
       "\n",
       "      tiempo_pilotaje    clave fecha_transmision  codigo_causa_int  \\\n",
       "3499                0  SPDIQUE        31/05/2024                 0   \n",
       "3500                0  SPDIQUE        31/05/2024                 0   \n",
       "3502                0  SPDIQUE        31/05/2024                 0   \n",
       "3503                0  SPDIQUE        31/05/2024                 0   \n",
       "3504                0  SPDIQUE        31/05/2024                 0   \n",
       "\n",
       "      tipo_sub_grupo  tipo_codigo_causa_int  \n",
       "3499               0                      0  \n",
       "3500               0                      0  \n",
       "3502               0                      0  \n",
       "3503               0                      0  \n",
       "3504               0                      0  "
      ]
     },
     "execution_count": 305,
     "metadata": {},
     "output_type": "execute_result"
    }
   ],
   "source": [
    "vigia_operaciones[\"tiempo_no_laborado\"] = tiempo_no_laborado\n",
    "vigia_operaciones[\"tiempo_pilotaje\"] = tiempo_pilotaje\n",
    "vigia_operaciones[\"clave\"] = clave\n",
    "vigia_operaciones[\"fecha_transmision\"] = fecha_transmision\n",
    "vigia_operaciones[\"codigo_causa_int\"] = cod_causa\n",
    "vigia_operaciones[\"tipo_sub_grupo\"] = tipo_sub_grup\n",
    "vigia_operaciones[\"tipo_codigo_causa_int\"] = tipo_cod_causa\n",
    "vigia_operaciones[\"TIEMPO DE OPERACIÓN [HRS]\"] = vigia_operaciones[\"TIEMPO DE OPERACIÓN [HRS]\"].astype(float)\n",
    "vigia_operaciones[\"TIEMPO DE OPERACIÓN [HRS]\"] = vigia_operaciones[\"TIEMPO DE OPERACIÓN [HRS]\"].round(2)\n",
    "vigia_operaciones.head()"
   ]
  },
  {
   "cell_type": "code",
   "execution_count": 306,
   "metadata": {},
   "outputs": [],
   "source": [
    "carpeta = r\"C:\\Users\\HP\\OneDrive - ZONA FRANCA INDUSTRIAL DE BIENES SERV DE CARTAGENA\\Sociedad Portuaria del Dique\\Trabajo en nube\\Manuel Angulo\\Reportes a Autoridades\\VIGIA\\2024\\MAYO\"\n",
    "archivo = \"operaciones.txt\"\n",
    "ruta_completa = f'{carpeta}/{archivo}'\n",
    "vigia_operaciones.to_csv(ruta_completa, sep=\",\", index=False, header=False)"
   ]
  },
  {
   "cell_type": "markdown",
   "metadata": {},
   "source": [
    "### NAVES"
   ]
  },
  {
   "cell_type": "code",
   "execution_count": 307,
   "metadata": {},
   "outputs": [],
   "source": [
    "vigia_naves = vigia_operaciones[[\"NIT SIN DIGITO\", \"CODIGO PUERTO\", \"PUESTO DE ATRAQUE\", \"FECHA INICIAL\", \"FECHA FINAL\", \"OMI\", \"nit_naviero\", \"nit_operador_sin_digito\"]]"
   ]
  },
  {
   "cell_type": "code",
   "execution_count": 308,
   "metadata": {},
   "outputs": [
    {
     "name": "stderr",
     "output_type": "stream",
     "text": [
      "C:\\Users\\HP\\AppData\\Local\\Temp\\ipykernel_27236\\1207527385.py:1: SettingWithCopyWarning: \n",
      "A value is trying to be set on a copy of a slice from a DataFrame.\n",
      "Try using .loc[row_indexer,col_indexer] = value instead\n",
      "\n",
      "See the caveats in the documentation: https://pandas.pydata.org/pandas-docs/stable/user_guide/indexing.html#returning-a-view-versus-a-copy\n",
      "  vigia_naves[\"consecutivo\"] = vigia_producto.index\n"
     ]
    }
   ],
   "source": [
    "vigia_naves[\"consecutivo\"] = vigia_producto.index"
   ]
  },
  {
   "cell_type": "code",
   "execution_count": 309,
   "metadata": {},
   "outputs": [
    {
     "name": "stderr",
     "output_type": "stream",
     "text": [
      "C:\\Users\\HP\\AppData\\Local\\Temp\\ipykernel_27236\\2047586971.py:1: SettingWithCopyWarning: \n",
      "A value is trying to be set on a copy of a slice from a DataFrame.\n",
      "Try using .loc[row_indexer,col_indexer] = value instead\n",
      "\n",
      "See the caveats in the documentation: https://pandas.pydata.org/pandas-docs/stable/user_guide/indexing.html#returning-a-view-versus-a-copy\n",
      "  vigia_naves[\"CLAVE\"] = clave\n",
      "C:\\Users\\HP\\AppData\\Local\\Temp\\ipykernel_27236\\2047586971.py:2: SettingWithCopyWarning: \n",
      "A value is trying to be set on a copy of a slice from a DataFrame.\n",
      "Try using .loc[row_indexer,col_indexer] = value instead\n",
      "\n",
      "See the caveats in the documentation: https://pandas.pydata.org/pandas-docs/stable/user_guide/indexing.html#returning-a-view-versus-a-copy\n",
      "  vigia_naves[\"FECHA TRANSMISION\"] = fecha_transmision\n",
      "C:\\Users\\HP\\AppData\\Local\\Temp\\ipykernel_27236\\2047586971.py:3: SettingWithCopyWarning: \n",
      "A value is trying to be set on a copy of a slice from a DataFrame.\n",
      "Try using .loc[row_indexer,col_indexer] = value instead\n",
      "\n",
      "See the caveats in the documentation: https://pandas.pydata.org/pandas-docs/stable/user_guide/indexing.html#returning-a-view-versus-a-copy\n",
      "  vigia_naves[\"FECHA INICIO FONDEO\"] = fecha_transmision\n",
      "C:\\Users\\HP\\AppData\\Local\\Temp\\ipykernel_27236\\2047586971.py:4: SettingWithCopyWarning: \n",
      "A value is trying to be set on a copy of a slice from a DataFrame.\n",
      "Try using .loc[row_indexer,col_indexer] = value instead\n",
      "\n",
      "See the caveats in the documentation: https://pandas.pydata.org/pandas-docs/stable/user_guide/indexing.html#returning-a-view-versus-a-copy\n",
      "  vigia_naves[\"HORA INICIO FONDEO\"] = \"00:00\"\n",
      "C:\\Users\\HP\\AppData\\Local\\Temp\\ipykernel_27236\\2047586971.py:5: SettingWithCopyWarning: \n",
      "A value is trying to be set on a copy of a slice from a DataFrame.\n",
      "Try using .loc[row_indexer,col_indexer] = value instead\n",
      "\n",
      "See the caveats in the documentation: https://pandas.pydata.org/pandas-docs/stable/user_guide/indexing.html#returning-a-view-versus-a-copy\n",
      "  vigia_naves[\"FECHA FINAL FONDEO\"] = fecha_transmision\n",
      "C:\\Users\\HP\\AppData\\Local\\Temp\\ipykernel_27236\\2047586971.py:6: SettingWithCopyWarning: \n",
      "A value is trying to be set on a copy of a slice from a DataFrame.\n",
      "Try using .loc[row_indexer,col_indexer] = value instead\n",
      "\n",
      "See the caveats in the documentation: https://pandas.pydata.org/pandas-docs/stable/user_guide/indexing.html#returning-a-view-versus-a-copy\n",
      "  vigia_naves[\"HORA FINAL FONDEO\"] = \"00:00\"\n"
     ]
    },
    {
     "data": {
      "text/html": [
       "<div>\n",
       "<style scoped>\n",
       "    .dataframe tbody tr th:only-of-type {\n",
       "        vertical-align: middle;\n",
       "    }\n",
       "\n",
       "    .dataframe tbody tr th {\n",
       "        vertical-align: top;\n",
       "    }\n",
       "\n",
       "    .dataframe thead th {\n",
       "        text-align: right;\n",
       "    }\n",
       "</style>\n",
       "<table border=\"1\" class=\"dataframe\">\n",
       "  <thead>\n",
       "    <tr style=\"text-align: right;\">\n",
       "      <th></th>\n",
       "      <th>NIT SIN DIGITO</th>\n",
       "      <th>CODIGO PUERTO</th>\n",
       "      <th>PUESTO DE ATRAQUE</th>\n",
       "      <th>FECHA INICIAL</th>\n",
       "      <th>FECHA FINAL</th>\n",
       "      <th>OMI</th>\n",
       "      <th>nit_naviero</th>\n",
       "      <th>nit_operador_sin_digito</th>\n",
       "      <th>consecutivo</th>\n",
       "      <th>CLAVE</th>\n",
       "      <th>FECHA TRANSMISION</th>\n",
       "      <th>FECHA INICIO FONDEO</th>\n",
       "      <th>HORA INICIO FONDEO</th>\n",
       "      <th>FECHA FINAL FONDEO</th>\n",
       "      <th>HORA FINAL FONDEO</th>\n",
       "    </tr>\n",
       "  </thead>\n",
       "  <tbody>\n",
       "    <tr>\n",
       "      <th>3499</th>\n",
       "      <td>806012654</td>\n",
       "      <td>4</td>\n",
       "      <td>1</td>\n",
       "      <td>01/05/2024</td>\n",
       "      <td>01/05/2024</td>\n",
       "      <td>50172</td>\n",
       "      <td>9012220501</td>\n",
       "      <td>900949195</td>\n",
       "      <td>9685</td>\n",
       "      <td>SPDIQUE</td>\n",
       "      <td>31/05/2024</td>\n",
       "      <td>31/05/2024</td>\n",
       "      <td>00:00</td>\n",
       "      <td>31/05/2024</td>\n",
       "      <td>00:00</td>\n",
       "    </tr>\n",
       "    <tr>\n",
       "      <th>3500</th>\n",
       "      <td>806012654</td>\n",
       "      <td>4</td>\n",
       "      <td>1</td>\n",
       "      <td>01/05/2024</td>\n",
       "      <td>01/05/2024</td>\n",
       "      <td>30251</td>\n",
       "      <td>9005850678</td>\n",
       "      <td>806012654</td>\n",
       "      <td>9686</td>\n",
       "      <td>SPDIQUE</td>\n",
       "      <td>31/05/2024</td>\n",
       "      <td>31/05/2024</td>\n",
       "      <td>00:00</td>\n",
       "      <td>31/05/2024</td>\n",
       "      <td>00:00</td>\n",
       "    </tr>\n",
       "    <tr>\n",
       "      <th>3502</th>\n",
       "      <td>806012654</td>\n",
       "      <td>4</td>\n",
       "      <td>1</td>\n",
       "      <td>02/05/2024</td>\n",
       "      <td>02/05/2024</td>\n",
       "      <td>30251</td>\n",
       "      <td>9005850678</td>\n",
       "      <td>806012654</td>\n",
       "      <td>9687</td>\n",
       "      <td>SPDIQUE</td>\n",
       "      <td>31/05/2024</td>\n",
       "      <td>31/05/2024</td>\n",
       "      <td>00:00</td>\n",
       "      <td>31/05/2024</td>\n",
       "      <td>00:00</td>\n",
       "    </tr>\n",
       "    <tr>\n",
       "      <th>3503</th>\n",
       "      <td>806012654</td>\n",
       "      <td>4</td>\n",
       "      <td>1</td>\n",
       "      <td>02/05/2024</td>\n",
       "      <td>02/05/2024</td>\n",
       "      <td>30251</td>\n",
       "      <td>9005850678</td>\n",
       "      <td>806012654</td>\n",
       "      <td>9688</td>\n",
       "      <td>SPDIQUE</td>\n",
       "      <td>31/05/2024</td>\n",
       "      <td>31/05/2024</td>\n",
       "      <td>00:00</td>\n",
       "      <td>31/05/2024</td>\n",
       "      <td>00:00</td>\n",
       "    </tr>\n",
       "    <tr>\n",
       "      <th>3504</th>\n",
       "      <td>806012654</td>\n",
       "      <td>4</td>\n",
       "      <td>1</td>\n",
       "      <td>02/05/2024</td>\n",
       "      <td>02/05/2024</td>\n",
       "      <td>30150</td>\n",
       "      <td>9005850678</td>\n",
       "      <td>806012654</td>\n",
       "      <td>9689</td>\n",
       "      <td>SPDIQUE</td>\n",
       "      <td>31/05/2024</td>\n",
       "      <td>31/05/2024</td>\n",
       "      <td>00:00</td>\n",
       "      <td>31/05/2024</td>\n",
       "      <td>00:00</td>\n",
       "    </tr>\n",
       "  </tbody>\n",
       "</table>\n",
       "</div>"
      ],
      "text/plain": [
       "      NIT SIN DIGITO  CODIGO PUERTO  PUESTO DE ATRAQUE FECHA INICIAL  \\\n",
       "3499       806012654              4                  1    01/05/2024   \n",
       "3500       806012654              4                  1    01/05/2024   \n",
       "3502       806012654              4                  1    02/05/2024   \n",
       "3503       806012654              4                  1    02/05/2024   \n",
       "3504       806012654              4                  1    02/05/2024   \n",
       "\n",
       "     FECHA FINAL    OMI  nit_naviero  nit_operador_sin_digito  consecutivo  \\\n",
       "3499  01/05/2024  50172   9012220501                900949195         9685   \n",
       "3500  01/05/2024  30251   9005850678                806012654         9686   \n",
       "3502  02/05/2024  30251   9005850678                806012654         9687   \n",
       "3503  02/05/2024  30251   9005850678                806012654         9688   \n",
       "3504  02/05/2024  30150   9005850678                806012654         9689   \n",
       "\n",
       "        CLAVE FECHA TRANSMISION FECHA INICIO FONDEO HORA INICIO FONDEO  \\\n",
       "3499  SPDIQUE        31/05/2024          31/05/2024              00:00   \n",
       "3500  SPDIQUE        31/05/2024          31/05/2024              00:00   \n",
       "3502  SPDIQUE        31/05/2024          31/05/2024              00:00   \n",
       "3503  SPDIQUE        31/05/2024          31/05/2024              00:00   \n",
       "3504  SPDIQUE        31/05/2024          31/05/2024              00:00   \n",
       "\n",
       "     FECHA FINAL FONDEO HORA FINAL FONDEO  \n",
       "3499         31/05/2024             00:00  \n",
       "3500         31/05/2024             00:00  \n",
       "3502         31/05/2024             00:00  \n",
       "3503         31/05/2024             00:00  \n",
       "3504         31/05/2024             00:00  "
      ]
     },
     "execution_count": 309,
     "metadata": {},
     "output_type": "execute_result"
    }
   ],
   "source": [
    "vigia_naves[\"CLAVE\"] = clave\n",
    "vigia_naves[\"FECHA TRANSMISION\"] = fecha_transmision\n",
    "vigia_naves[\"FECHA INICIO FONDEO\"] = fecha_transmision\n",
    "vigia_naves[\"HORA INICIO FONDEO\"] = \"00:00\"\n",
    "vigia_naves[\"FECHA FINAL FONDEO\"] = fecha_transmision\n",
    "vigia_naves[\"HORA FINAL FONDEO\"] = \"00:00\"\n",
    "vigia_naves.head()"
   ]
  },
  {
   "cell_type": "code",
   "execution_count": 310,
   "metadata": {},
   "outputs": [],
   "source": [
    "carpeta = r\"C:\\Users\\HP\\OneDrive - ZONA FRANCA INDUSTRIAL DE BIENES SERV DE CARTAGENA\\Sociedad Portuaria del Dique\\Trabajo en nube\\Manuel Angulo\\Reportes a Autoridades\\VIGIA\\2024\\MAYO\"\n",
    "archivo = \"naves.txt\"\n",
    "ruta_completa = f'{carpeta}/{archivo}'\n",
    "vigia_naves.to_csv(ruta_completa, sep=\",\", index=False, header=False)"
   ]
  },
  {
   "cell_type": "markdown",
   "metadata": {},
   "source": [
    "#### SE DEBE CONTRASTAR LAS HORAS DE ARRIBO Y ZARPE DE ESTE UTLIMO FORMATO CON EL REGISTRO DE MOVIMIENTO"
   ]
  },
  {
   "cell_type": "markdown",
   "metadata": {},
   "source": [
    "### VIGIA ALMACENAMIENTO "
   ]
  },
  {
   "cell_type": "code",
   "execution_count": 311,
   "metadata": {},
   "outputs": [],
   "source": [
    "vigia_alma = alma\n",
    "vigia_alma = alma.groupby([\"TIPO DE OPERACIÓN [E/S/N]\",\"DESDE\", \"HACIA\"])[\"PESO [TON]\"].sum()"
   ]
  },
  {
   "cell_type": "code",
   "execution_count": 312,
   "metadata": {},
   "outputs": [
    {
     "name": "stdout",
     "output_type": "stream",
     "text": [
      "                 E            S\n",
      "TK101  2071.940000  1885.650022\n",
      "TK102  3868.281912  3940.389712\n",
      "TK103  2895.604387  2822.300048\n",
      "TK104   724.470000   706.710000\n",
      "TK105   313.070000   312.388664\n",
      "TK106  1259.943149   766.328787\n",
      "TK107     0.000000     0.000000\n",
      "TK108  1331.880162  1035.647945\n"
     ]
    },
    {
     "name": "stderr",
     "output_type": "stream",
     "text": [
      "C:\\Users\\HP\\AppData\\Local\\Temp\\ipykernel_27236\\2565038785.py:5: FutureWarning: Downcasting object dtype arrays on .fillna, .ffill, .bfill is deprecated and will change in a future version. Call result.infer_objects(copy=False) instead. To opt-in to the future behavior, set `pd.set_option('future.no_silent_downcasting', True)`\n",
      "  df = df.fillna(0)\n",
      "C:\\Users\\HP\\AppData\\Local\\Temp\\ipykernel_27236\\2565038785.py:10: FutureWarning: Setting an item of incompatible dtype is deprecated and will raise an error in a future version of pandas. Value '1331.880162' has dtype incompatible with int64, please explicitly cast to a compatible dtype first.\n",
      "  df.at[hacia, 'E'] += valor\n",
      "C:\\Users\\HP\\AppData\\Local\\Temp\\ipykernel_27236\\2565038785.py:15: FutureWarning: Setting an item of incompatible dtype is deprecated and will raise an error in a future version of pandas. Value '128.43935999999985' has dtype incompatible with int64, please explicitly cast to a compatible dtype first.\n",
      "  df.at[desde, 'S'] += valor\n"
     ]
    }
   ],
   "source": [
    "# Crear un DataFrame vacío con las filas 'TK101' a 'TK108' y columnas 'E', 'S'\n",
    "tanques = ['TK101', 'TK102', 'TK103', 'TK104', 'TK105', 'TK106', 'TK107', 'TK108']\n",
    "columnas = ['E', 'S']\n",
    "df = pd.DataFrame(index=tanques, columns=columnas)\n",
    "df = df.fillna(0)\n",
    "\n",
    "# Iterar sobre los datos agrupados y llenar el DataFrame\n",
    "for (tipo, desde, hacia), valor in vigia_alma.items():\n",
    "    if tipo == 'E':\n",
    "        df.at[hacia, 'E'] += valor\n",
    "    elif tipo == 'S':\n",
    "        df.at[desde, 'S'] += valor\n",
    "    elif tipo == 'N':\n",
    "        df.at[hacia, 'E'] += valor\n",
    "        df.at[desde, 'S'] += valor\n",
    "\n",
    "print(df)"
   ]
  },
  {
   "cell_type": "code",
   "execution_count": 313,
   "metadata": {},
   "outputs": [
    {
     "data": {
      "text/html": [
       "<div>\n",
       "<style scoped>\n",
       "    .dataframe tbody tr th:only-of-type {\n",
       "        vertical-align: middle;\n",
       "    }\n",
       "\n",
       "    .dataframe tbody tr th {\n",
       "        vertical-align: top;\n",
       "    }\n",
       "\n",
       "    .dataframe thead th {\n",
       "        text-align: right;\n",
       "    }\n",
       "</style>\n",
       "<table border=\"1\" class=\"dataframe\">\n",
       "  <thead>\n",
       "    <tr style=\"text-align: right;\">\n",
       "      <th></th>\n",
       "      <th>E</th>\n",
       "      <th>S</th>\n",
       "      <th>NIT</th>\n",
       "      <th>TIPO ALMA</th>\n",
       "      <th>Codigo puerto</th>\n",
       "      <th>FECHA FINAL</th>\n",
       "      <th>FECHA INICIO</th>\n",
       "      <th>tiempo_permanencia</th>\n",
       "      <th>USUARIO</th>\n",
       "      <th>FECHA TRANSMISION</th>\n",
       "    </tr>\n",
       "  </thead>\n",
       "  <tbody>\n",
       "    <tr>\n",
       "      <th>TK101</th>\n",
       "      <td>2071.940000</td>\n",
       "      <td>1885.650022</td>\n",
       "      <td>806012654</td>\n",
       "      <td>6</td>\n",
       "      <td>4</td>\n",
       "      <td>31/05/2024</td>\n",
       "      <td>01/05/2024</td>\n",
       "      <td>744</td>\n",
       "      <td>SPDIQUE</td>\n",
       "      <td>31/05/2024</td>\n",
       "    </tr>\n",
       "    <tr>\n",
       "      <th>TK102</th>\n",
       "      <td>3868.281912</td>\n",
       "      <td>3940.389712</td>\n",
       "      <td>806012654</td>\n",
       "      <td>6</td>\n",
       "      <td>4</td>\n",
       "      <td>31/05/2024</td>\n",
       "      <td>01/05/2024</td>\n",
       "      <td>744</td>\n",
       "      <td>SPDIQUE</td>\n",
       "      <td>31/05/2024</td>\n",
       "    </tr>\n",
       "    <tr>\n",
       "      <th>TK103</th>\n",
       "      <td>2895.604387</td>\n",
       "      <td>2822.300048</td>\n",
       "      <td>806012654</td>\n",
       "      <td>6</td>\n",
       "      <td>4</td>\n",
       "      <td>31/05/2024</td>\n",
       "      <td>01/05/2024</td>\n",
       "      <td>744</td>\n",
       "      <td>SPDIQUE</td>\n",
       "      <td>31/05/2024</td>\n",
       "    </tr>\n",
       "    <tr>\n",
       "      <th>TK104</th>\n",
       "      <td>724.470000</td>\n",
       "      <td>706.710000</td>\n",
       "      <td>806012654</td>\n",
       "      <td>6</td>\n",
       "      <td>4</td>\n",
       "      <td>31/05/2024</td>\n",
       "      <td>01/05/2024</td>\n",
       "      <td>744</td>\n",
       "      <td>SPDIQUE</td>\n",
       "      <td>31/05/2024</td>\n",
       "    </tr>\n",
       "    <tr>\n",
       "      <th>TK105</th>\n",
       "      <td>313.070000</td>\n",
       "      <td>312.388664</td>\n",
       "      <td>806012654</td>\n",
       "      <td>6</td>\n",
       "      <td>4</td>\n",
       "      <td>31/05/2024</td>\n",
       "      <td>01/05/2024</td>\n",
       "      <td>744</td>\n",
       "      <td>SPDIQUE</td>\n",
       "      <td>31/05/2024</td>\n",
       "    </tr>\n",
       "    <tr>\n",
       "      <th>TK106</th>\n",
       "      <td>1259.943149</td>\n",
       "      <td>766.328787</td>\n",
       "      <td>806012654</td>\n",
       "      <td>6</td>\n",
       "      <td>4</td>\n",
       "      <td>31/05/2024</td>\n",
       "      <td>01/05/2024</td>\n",
       "      <td>744</td>\n",
       "      <td>SPDIQUE</td>\n",
       "      <td>31/05/2024</td>\n",
       "    </tr>\n",
       "    <tr>\n",
       "      <th>TK107</th>\n",
       "      <td>0.000000</td>\n",
       "      <td>0.000000</td>\n",
       "      <td>806012654</td>\n",
       "      <td>6</td>\n",
       "      <td>4</td>\n",
       "      <td>31/05/2024</td>\n",
       "      <td>01/05/2024</td>\n",
       "      <td>744</td>\n",
       "      <td>SPDIQUE</td>\n",
       "      <td>31/05/2024</td>\n",
       "    </tr>\n",
       "    <tr>\n",
       "      <th>TK108</th>\n",
       "      <td>1331.880162</td>\n",
       "      <td>1035.647945</td>\n",
       "      <td>806012654</td>\n",
       "      <td>6</td>\n",
       "      <td>4</td>\n",
       "      <td>31/05/2024</td>\n",
       "      <td>01/05/2024</td>\n",
       "      <td>744</td>\n",
       "      <td>SPDIQUE</td>\n",
       "      <td>31/05/2024</td>\n",
       "    </tr>\n",
       "  </tbody>\n",
       "</table>\n",
       "</div>"
      ],
      "text/plain": [
       "                 E            S        NIT  TIPO ALMA  Codigo puerto  \\\n",
       "TK101  2071.940000  1885.650022  806012654          6              4   \n",
       "TK102  3868.281912  3940.389712  806012654          6              4   \n",
       "TK103  2895.604387  2822.300048  806012654          6              4   \n",
       "TK104   724.470000   706.710000  806012654          6              4   \n",
       "TK105   313.070000   312.388664  806012654          6              4   \n",
       "TK106  1259.943149   766.328787  806012654          6              4   \n",
       "TK107     0.000000     0.000000  806012654          6              4   \n",
       "TK108  1331.880162  1035.647945  806012654          6              4   \n",
       "\n",
       "      FECHA FINAL FECHA INICIO  tiempo_permanencia  USUARIO FECHA TRANSMISION  \n",
       "TK101  31/05/2024   01/05/2024                 744  SPDIQUE        31/05/2024  \n",
       "TK102  31/05/2024   01/05/2024                 744  SPDIQUE        31/05/2024  \n",
       "TK103  31/05/2024   01/05/2024                 744  SPDIQUE        31/05/2024  \n",
       "TK104  31/05/2024   01/05/2024                 744  SPDIQUE        31/05/2024  \n",
       "TK105  31/05/2024   01/05/2024                 744  SPDIQUE        31/05/2024  \n",
       "TK106  31/05/2024   01/05/2024                 744  SPDIQUE        31/05/2024  \n",
       "TK107  31/05/2024   01/05/2024                 744  SPDIQUE        31/05/2024  \n",
       "TK108  31/05/2024   01/05/2024                 744  SPDIQUE        31/05/2024  "
      ]
     },
     "execution_count": 313,
     "metadata": {},
     "output_type": "execute_result"
    }
   ],
   "source": [
    "df[\"NIT\"] = nit_sin_digito\n",
    "df[\"TIPO ALMA\"] = 6\n",
    "df[\"Codigo puerto\"] = codigo_puerto\n",
    "df[\"FECHA FINAL\"] = fecha_transmision\n",
    "df[\"FECHA INICIO\"] = primer_dia\n",
    "df[\"tiempo_permanencia\"] = dias_totales_mes_anterior*24\n",
    "df[\"USUARIO\"] = clave\n",
    "df[\"FECHA TRANSMISION\"] = fecha_transmision\n",
    "df.head(8)"
   ]
  },
  {
   "cell_type": "code",
   "execution_count": 314,
   "metadata": {},
   "outputs": [],
   "source": [
    "secuencia = list(range(101, 109))\n",
    "df['bodega'] = secuencia"
   ]
  },
  {
   "cell_type": "code",
   "execution_count": 315,
   "metadata": {},
   "outputs": [],
   "source": [
    "df = df[[\"NIT\", \"TIPO ALMA\", \"Codigo puerto\", \"bodega\", \"FECHA INICIO\", \"FECHA FINAL\", \"E\", \"S\", \"tiempo_permanencia\", \"USUARIO\", \"FECHA TRANSMISION\"]]"
   ]
  },
  {
   "cell_type": "code",
   "execution_count": 316,
   "metadata": {},
   "outputs": [
    {
     "data": {
      "text/html": [
       "<div>\n",
       "<style scoped>\n",
       "    .dataframe tbody tr th:only-of-type {\n",
       "        vertical-align: middle;\n",
       "    }\n",
       "\n",
       "    .dataframe tbody tr th {\n",
       "        vertical-align: top;\n",
       "    }\n",
       "\n",
       "    .dataframe thead th {\n",
       "        text-align: right;\n",
       "    }\n",
       "</style>\n",
       "<table border=\"1\" class=\"dataframe\">\n",
       "  <thead>\n",
       "    <tr style=\"text-align: right;\">\n",
       "      <th></th>\n",
       "      <th>NIT</th>\n",
       "      <th>TIPO ALMA</th>\n",
       "      <th>Codigo puerto</th>\n",
       "      <th>bodega</th>\n",
       "      <th>FECHA INICIO</th>\n",
       "      <th>FECHA FINAL</th>\n",
       "      <th>E</th>\n",
       "      <th>S</th>\n",
       "      <th>tiempo_permanencia</th>\n",
       "      <th>USUARIO</th>\n",
       "      <th>FECHA TRANSMISION</th>\n",
       "    </tr>\n",
       "  </thead>\n",
       "  <tbody>\n",
       "    <tr>\n",
       "      <th>0</th>\n",
       "      <td>806012654</td>\n",
       "      <td>6</td>\n",
       "      <td>4</td>\n",
       "      <td>101</td>\n",
       "      <td>01/05/2024</td>\n",
       "      <td>31/05/2024</td>\n",
       "      <td>2071.940000</td>\n",
       "      <td>1885.650022</td>\n",
       "      <td>744</td>\n",
       "      <td>SPDIQUE</td>\n",
       "      <td>31/05/2024</td>\n",
       "    </tr>\n",
       "    <tr>\n",
       "      <th>1</th>\n",
       "      <td>806012654</td>\n",
       "      <td>6</td>\n",
       "      <td>4</td>\n",
       "      <td>102</td>\n",
       "      <td>01/05/2024</td>\n",
       "      <td>31/05/2024</td>\n",
       "      <td>3868.281912</td>\n",
       "      <td>3940.389712</td>\n",
       "      <td>744</td>\n",
       "      <td>SPDIQUE</td>\n",
       "      <td>31/05/2024</td>\n",
       "    </tr>\n",
       "    <tr>\n",
       "      <th>2</th>\n",
       "      <td>806012654</td>\n",
       "      <td>6</td>\n",
       "      <td>4</td>\n",
       "      <td>103</td>\n",
       "      <td>01/05/2024</td>\n",
       "      <td>31/05/2024</td>\n",
       "      <td>2895.604387</td>\n",
       "      <td>2822.300048</td>\n",
       "      <td>744</td>\n",
       "      <td>SPDIQUE</td>\n",
       "      <td>31/05/2024</td>\n",
       "    </tr>\n",
       "    <tr>\n",
       "      <th>3</th>\n",
       "      <td>806012654</td>\n",
       "      <td>6</td>\n",
       "      <td>4</td>\n",
       "      <td>104</td>\n",
       "      <td>01/05/2024</td>\n",
       "      <td>31/05/2024</td>\n",
       "      <td>724.470000</td>\n",
       "      <td>706.710000</td>\n",
       "      <td>744</td>\n",
       "      <td>SPDIQUE</td>\n",
       "      <td>31/05/2024</td>\n",
       "    </tr>\n",
       "    <tr>\n",
       "      <th>4</th>\n",
       "      <td>806012654</td>\n",
       "      <td>6</td>\n",
       "      <td>4</td>\n",
       "      <td>105</td>\n",
       "      <td>01/05/2024</td>\n",
       "      <td>31/05/2024</td>\n",
       "      <td>313.070000</td>\n",
       "      <td>312.388664</td>\n",
       "      <td>744</td>\n",
       "      <td>SPDIQUE</td>\n",
       "      <td>31/05/2024</td>\n",
       "    </tr>\n",
       "    <tr>\n",
       "      <th>5</th>\n",
       "      <td>806012654</td>\n",
       "      <td>6</td>\n",
       "      <td>4</td>\n",
       "      <td>106</td>\n",
       "      <td>01/05/2024</td>\n",
       "      <td>31/05/2024</td>\n",
       "      <td>1259.943149</td>\n",
       "      <td>766.328787</td>\n",
       "      <td>744</td>\n",
       "      <td>SPDIQUE</td>\n",
       "      <td>31/05/2024</td>\n",
       "    </tr>\n",
       "    <tr>\n",
       "      <th>6</th>\n",
       "      <td>806012654</td>\n",
       "      <td>6</td>\n",
       "      <td>4</td>\n",
       "      <td>107</td>\n",
       "      <td>01/05/2024</td>\n",
       "      <td>31/05/2024</td>\n",
       "      <td>0.000000</td>\n",
       "      <td>0.000000</td>\n",
       "      <td>744</td>\n",
       "      <td>SPDIQUE</td>\n",
       "      <td>31/05/2024</td>\n",
       "    </tr>\n",
       "    <tr>\n",
       "      <th>7</th>\n",
       "      <td>806012654</td>\n",
       "      <td>6</td>\n",
       "      <td>4</td>\n",
       "      <td>108</td>\n",
       "      <td>01/05/2024</td>\n",
       "      <td>31/05/2024</td>\n",
       "      <td>1331.880162</td>\n",
       "      <td>1035.647945</td>\n",
       "      <td>744</td>\n",
       "      <td>SPDIQUE</td>\n",
       "      <td>31/05/2024</td>\n",
       "    </tr>\n",
       "    <tr>\n",
       "      <th>8</th>\n",
       "      <td>806012654</td>\n",
       "      <td>2</td>\n",
       "      <td>4</td>\n",
       "      <td>100</td>\n",
       "      <td>01/05/2024</td>\n",
       "      <td>31/05/2024</td>\n",
       "      <td>0.000000</td>\n",
       "      <td>0.000000</td>\n",
       "      <td>744</td>\n",
       "      <td>SPDIQUE</td>\n",
       "      <td>31/05/2024</td>\n",
       "    </tr>\n",
       "  </tbody>\n",
       "</table>\n",
       "</div>"
      ],
      "text/plain": [
       "         NIT  TIPO ALMA  Codigo puerto  bodega FECHA INICIO FECHA FINAL  \\\n",
       "0  806012654          6              4     101   01/05/2024  31/05/2024   \n",
       "1  806012654          6              4     102   01/05/2024  31/05/2024   \n",
       "2  806012654          6              4     103   01/05/2024  31/05/2024   \n",
       "3  806012654          6              4     104   01/05/2024  31/05/2024   \n",
       "4  806012654          6              4     105   01/05/2024  31/05/2024   \n",
       "5  806012654          6              4     106   01/05/2024  31/05/2024   \n",
       "6  806012654          6              4     107   01/05/2024  31/05/2024   \n",
       "7  806012654          6              4     108   01/05/2024  31/05/2024   \n",
       "8  806012654          2              4     100   01/05/2024  31/05/2024   \n",
       "\n",
       "             E            S  tiempo_permanencia  USUARIO FECHA TRANSMISION  \n",
       "0  2071.940000  1885.650022                 744  SPDIQUE        31/05/2024  \n",
       "1  3868.281912  3940.389712                 744  SPDIQUE        31/05/2024  \n",
       "2  2895.604387  2822.300048                 744  SPDIQUE        31/05/2024  \n",
       "3   724.470000   706.710000                 744  SPDIQUE        31/05/2024  \n",
       "4   313.070000   312.388664                 744  SPDIQUE        31/05/2024  \n",
       "5  1259.943149   766.328787                 744  SPDIQUE        31/05/2024  \n",
       "6     0.000000     0.000000                 744  SPDIQUE        31/05/2024  \n",
       "7  1331.880162  1035.647945                 744  SPDIQUE        31/05/2024  \n",
       "8     0.000000     0.000000                 744  SPDIQUE        31/05/2024  "
      ]
     },
     "execution_count": 316,
     "metadata": {},
     "output_type": "execute_result"
    }
   ],
   "source": [
    "nuevo_registro = pd.DataFrame({\"NIT\": nit_sin_digito, \n",
    "                                \"TIPO ALMA\": [2], \n",
    "                                \"Codigo puerto\": codigo_puerto, \n",
    "                                \"bodega\": [100], \n",
    "                                \"FECHA INICIO\": primer_dia, \n",
    "                                \"FECHA FINAL\": fecha_transmision, \n",
    "                                \"E\": [0], \n",
    "                                \"S\": [0], \n",
    "                                \"tiempo_permanencia\": [dias_totales_mes_anterior*24], \n",
    "                                \"USUARIO\": clave, \n",
    "                                \"FECHA TRANSMISION\": fecha_transmision})\n",
    "\n",
    "# Concatenar el nuevo registro con el DataFrame existente\n",
    "df = pd.concat([df, nuevo_registro], ignore_index=True)\n",
    "df.head(9)"
   ]
  },
  {
   "cell_type": "code",
   "execution_count": 317,
   "metadata": {},
   "outputs": [],
   "source": [
    "df[\"E\"] = df[\"E\"].round(2)\n",
    "df[\"S\"] = df[\"S\"].round(2)"
   ]
  },
  {
   "cell_type": "code",
   "execution_count": 318,
   "metadata": {},
   "outputs": [],
   "source": [
    "carpeta = r\"C:\\Users\\HP\\OneDrive - ZONA FRANCA INDUSTRIAL DE BIENES SERV DE CARTAGENA\\Sociedad Portuaria del Dique\\Trabajo en nube\\Manuel Angulo\\Reportes a Autoridades\\VIGIA\\2024\\MAYO\"\n",
    "archivo = \"alma.txt\"\n",
    "ruta_completa = f'{carpeta}/{archivo}'\n",
    "df.to_csv(ruta_completa, sep=\",\", index=False, header=False)"
   ]
  },
  {
   "cell_type": "markdown",
   "metadata": {},
   "source": [
    "# INDICADORES PARA SISTEMA DE GESTIÓN"
   ]
  },
  {
   "cell_type": "code",
   "execution_count": 319,
   "metadata": {},
   "outputs": [
    {
     "data": {
      "text/plain": [
       "74.57"
      ]
     },
     "execution_count": 319,
     "metadata": {},
     "output_type": "execute_result"
    }
   ],
   "source": [
    "#RENDIMIENTO DE COMBUSTIBLE\n",
    "sgi_data = res_op_mens\n",
    "r_combustible = sgi_data[\"EFICIENCIA [TON/GAL]\"]\n",
    "r_combustible = r_combustible.dropna()\n",
    "r_combustible.mean().round(2)"
   ]
  },
  {
   "cell_type": "code",
   "execution_count": 323,
   "metadata": {},
   "outputs": [
    {
     "data": {
      "text/plain": [
       "EQUIPO DE BOMBEO\n",
       "2.0    133.39\n",
       "4.0    139.81\n",
       "6.0    107.77\n",
       "Name: TASA DE BOMBEO REAL, dtype: float64"
      ]
     },
     "execution_count": 323,
     "metadata": {},
     "output_type": "execute_result"
    }
   ],
   "source": [
    "#RENDIMIENTO TASA DE BOMBEO SEGÚN EQUIPO DE BOMBEO\n",
    "r_combustible = sgi_data[[\"TASA DE BOMBEO REAL\", \"EQUIPO DE BOMBEO\"]]\n",
    "r_combustible = r_combustible.groupby(\"EQUIPO DE BOMBEO\")[\"TASA DE BOMBEO REAL\"].mean().round(2)\n",
    "r_combustible"
   ]
  },
  {
   "cell_type": "code",
   "execution_count": 321,
   "metadata": {},
   "outputs": [
    {
     "data": {
      "text/plain": [
       "69.1"
      ]
     },
     "execution_count": 321,
     "metadata": {},
     "output_type": "execute_result"
    }
   ],
   "source": [
    "#RENDIMIENTO LABORAL PERSONAL OPERATIVO [TON/HR]\n",
    "carga_lab = sgi_data[[\"PESO [TON]\", \"HORAS HOMBRE USADAS\"]]\n",
    "carga_lab = carga_lab.dropna(axis=0)\n",
    "(carga_lab[\"PESO [TON]\"].sum()/carga_lab[\"HORAS HOMBRE USADAS\"].sum()).round(2)"
   ]
  },
  {
   "cell_type": "code",
   "execution_count": 322,
   "metadata": {},
   "outputs": [
    {
     "data": {
      "text/plain": [
       "TIPO DE OPERACIÓN DE TRASIEGO\n",
       "TK - BCZA      11148.32\n",
       "CTK - BCZA     10864.10\n",
       "CTK - TK        9911.22\n",
       "BCZA - BCZA     3230.00\n",
       "BCZA - TK       2232.87\n",
       "TK - TK          321.10\n",
       "CTK - RR          70.76\n",
       "RR - CTK           1.59\n",
       "BBLS - RR          0.00\n",
       "BCZA -RR           0.00\n",
       "Name: PESO [TON], dtype: float64"
      ]
     },
     "execution_count": 322,
     "metadata": {},
     "output_type": "execute_result"
    }
   ],
   "source": [
    "#TONELADAS MOVILIZADAS POR TIPO DE OPERACIÓN\n",
    "ton_top = sgi_data[[\"PESO [TON]\", \"TIPO DE OPERACIÓN DE TRASIEGO\"]]\n",
    "ton_top = ton_top.groupby(\"TIPO DE OPERACIÓN DE TRASIEGO\")[\"PESO [TON]\"].sum().round(2)\n",
    "ton_top.sort_values(ascending=False)"
   ]
  },
  {
   "cell_type": "code",
   "execution_count": 326,
   "metadata": {},
   "outputs": [
    {
     "data": {
      "text/plain": [
       "TIPO DE OPERACIÓN DE TRASIEGO\n",
       "TK - BCZA      106.90\n",
       "CTK - BCZA      67.83\n",
       "CTK - TK        63.62\n",
       "BCZA - TK       40.51\n",
       "BBLS - RR         NaN\n",
       "BCZA - BCZA       NaN\n",
       "BCZA -RR          NaN\n",
       "CTK - RR          NaN\n",
       "RR - CTK          NaN\n",
       "TK - TK           NaN\n",
       "Name: EFICIENCIA [TON/GAL], dtype: float64"
      ]
     },
     "execution_count": 326,
     "metadata": {},
     "output_type": "execute_result"
    }
   ],
   "source": [
    "#RENDIMIENTO DE COMBUSTIBLE POR TIPO DE OPERACIÓN\n",
    "ton_top = sgi_data[[\"EFICIENCIA [TON/GAL]\", \"TIPO DE OPERACIÓN DE TRASIEGO\"]]\n",
    "ton_top = ton_top.groupby(\"TIPO DE OPERACIÓN DE TRASIEGO\")[\"EFICIENCIA [TON/GAL]\"].mean().round(2)\n",
    "ton_top.sort_values(ascending=False)"
   ]
  }
 ],
 "metadata": {
  "kernelspec": {
   "display_name": "Python 3",
   "language": "python",
   "name": "python3"
  },
  "language_info": {
   "codemirror_mode": {
    "name": "ipython",
    "version": 3
   },
   "file_extension": ".py",
   "mimetype": "text/x-python",
   "name": "python",
   "nbconvert_exporter": "python",
   "pygments_lexer": "ipython3",
   "version": "3.11.3"
  }
 },
 "nbformat": 4,
 "nbformat_minor": 2
}
